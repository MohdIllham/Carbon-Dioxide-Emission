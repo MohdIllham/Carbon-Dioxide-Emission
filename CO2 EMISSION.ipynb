{
 "cells": [
  {
   "cell_type": "markdown",
   "id": "2eb02da5",
   "metadata": {},
   "source": [
    "# Import Library"
   ]
  },
  {
   "cell_type": "code",
   "execution_count": 2,
   "id": "3638bcb6",
   "metadata": {},
   "outputs": [],
   "source": [
    "import pandas as pd\n",
    "import numpy as np\n",
    "import warnings\n",
    "import seaborn as sns\n",
    "import matplotlib.pyplot as plt\n",
    "from matplotlib.gridspec import GridSpec\n",
    "import squarify\n",
    "import plotly.express as px\n",
    "import pycountry_convert as pc\n",
    "\n",
    "warnings.filterwarnings('ignore')"
   ]
  },
  {
   "cell_type": "markdown",
   "id": "243278c4",
   "metadata": {},
   "source": [
    "# CARBON EMISSION\n",
    "\n",
    "This notebook is purely an exploratory data analysis to see if I can figure out which Countries have highest or Lowest Carbon Emission. To do this, I will be analysing & exploring the data set provided, and the historic carbon emission  from 1995.\n",
    "\n",
    "I hope to learn a few things along the way, and I hope anyone reading this will, too.\n",
    "\n",
    "I'll also explore if countries can improve their positions over time, or if the placings are more or less static.\n",
    "\n"
   ]
  },
  {
   "cell_type": "markdown",
   "id": "8d326f98",
   "metadata": {},
   "source": [
    "# Load Data\n"
   ]
  },
  {
   "cell_type": "code",
   "execution_count": 3,
   "id": "0318f35a",
   "metadata": {},
   "outputs": [
    {
     "data": {
      "text/html": [
       "<div>\n",
       "<style scoped>\n",
       "    .dataframe tbody tr th:only-of-type {\n",
       "        vertical-align: middle;\n",
       "    }\n",
       "\n",
       "    .dataframe tbody tr th {\n",
       "        vertical-align: top;\n",
       "    }\n",
       "\n",
       "    .dataframe thead th {\n",
       "        text-align: right;\n",
       "    }\n",
       "</style>\n",
       "<table border=\"1\" class=\"dataframe\">\n",
       "  <thead>\n",
       "    <tr style=\"text-align: right;\">\n",
       "      <th></th>\n",
       "      <th>ObjectId</th>\n",
       "      <th>Country</th>\n",
       "      <th>ISO2</th>\n",
       "      <th>ISO3</th>\n",
       "      <th>Indicator</th>\n",
       "      <th>Unit</th>\n",
       "      <th>Source</th>\n",
       "      <th>CTS_Code</th>\n",
       "      <th>CTS_Name</th>\n",
       "      <th>CTS_Full_Descriptor</th>\n",
       "      <th>...</th>\n",
       "      <th>F2009</th>\n",
       "      <th>F2010</th>\n",
       "      <th>F2011</th>\n",
       "      <th>F2012</th>\n",
       "      <th>F2013</th>\n",
       "      <th>F2014</th>\n",
       "      <th>F2015</th>\n",
       "      <th>F2016</th>\n",
       "      <th>F2017</th>\n",
       "      <th>F2018</th>\n",
       "    </tr>\n",
       "  </thead>\n",
       "  <tbody>\n",
       "    <tr>\n",
       "      <th>0</th>\n",
       "      <td>1</td>\n",
       "      <td>Argentina</td>\n",
       "      <td>AR</td>\n",
       "      <td>ARG</td>\n",
       "      <td>CO2 emissions</td>\n",
       "      <td>Millions of Metric tons of CO2</td>\n",
       "      <td>OECD (2021), OECD Inter-Country Input-Output D...</td>\n",
       "      <td>ECNC</td>\n",
       "      <td>CO2 Emissions</td>\n",
       "      <td>Environment, Climate Change, Economic Activity...</td>\n",
       "      <td>...</td>\n",
       "      <td>0.284</td>\n",
       "      <td>0.319</td>\n",
       "      <td>0.338</td>\n",
       "      <td>0.377</td>\n",
       "      <td>0.378</td>\n",
       "      <td>0.369</td>\n",
       "      <td>0.371</td>\n",
       "      <td>0.303</td>\n",
       "      <td>0.358</td>\n",
       "      <td>0.344</td>\n",
       "    </tr>\n",
       "    <tr>\n",
       "      <th>1</th>\n",
       "      <td>2</td>\n",
       "      <td>Argentina</td>\n",
       "      <td>AR</td>\n",
       "      <td>ARG</td>\n",
       "      <td>CO2 emissions</td>\n",
       "      <td>Millions of Metric tons of CO2</td>\n",
       "      <td>OECD (2021), OECD Inter-Country Input-Output D...</td>\n",
       "      <td>ECNC</td>\n",
       "      <td>CO2 Emissions</td>\n",
       "      <td>Environment, Climate Change, Economic Activity...</td>\n",
       "      <td>...</td>\n",
       "      <td>0.000</td>\n",
       "      <td>0.000</td>\n",
       "      <td>0.000</td>\n",
       "      <td>0.000</td>\n",
       "      <td>0.000</td>\n",
       "      <td>0.000</td>\n",
       "      <td>0.000</td>\n",
       "      <td>0.000</td>\n",
       "      <td>0.000</td>\n",
       "      <td>0.000</td>\n",
       "    </tr>\n",
       "    <tr>\n",
       "      <th>2</th>\n",
       "      <td>3</td>\n",
       "      <td>Argentina</td>\n",
       "      <td>AR</td>\n",
       "      <td>ARG</td>\n",
       "      <td>CO2 emissions</td>\n",
       "      <td>Millions of Metric tons of CO2</td>\n",
       "      <td>OECD (2021), OECD Inter-Country Input-Output D...</td>\n",
       "      <td>ECNC</td>\n",
       "      <td>CO2 Emissions</td>\n",
       "      <td>Environment, Climate Change, Economic Activity...</td>\n",
       "      <td>...</td>\n",
       "      <td>0.725</td>\n",
       "      <td>0.738</td>\n",
       "      <td>0.765</td>\n",
       "      <td>0.777</td>\n",
       "      <td>0.840</td>\n",
       "      <td>0.794</td>\n",
       "      <td>0.852</td>\n",
       "      <td>0.789</td>\n",
       "      <td>0.846</td>\n",
       "      <td>0.857</td>\n",
       "    </tr>\n",
       "    <tr>\n",
       "      <th>3</th>\n",
       "      <td>4</td>\n",
       "      <td>Argentina</td>\n",
       "      <td>AR</td>\n",
       "      <td>ARG</td>\n",
       "      <td>CO2 emissions</td>\n",
       "      <td>Millions of Metric tons of CO2</td>\n",
       "      <td>OECD (2021), OECD Inter-Country Input-Output D...</td>\n",
       "      <td>ECNC</td>\n",
       "      <td>CO2 Emissions</td>\n",
       "      <td>Environment, Climate Change, Economic Activity...</td>\n",
       "      <td>...</td>\n",
       "      <td>13.804</td>\n",
       "      <td>14.110</td>\n",
       "      <td>14.616</td>\n",
       "      <td>14.120</td>\n",
       "      <td>15.358</td>\n",
       "      <td>13.728</td>\n",
       "      <td>14.273</td>\n",
       "      <td>13.838</td>\n",
       "      <td>14.121</td>\n",
       "      <td>13.067</td>\n",
       "    </tr>\n",
       "    <tr>\n",
       "      <th>4</th>\n",
       "      <td>5</td>\n",
       "      <td>Argentina</td>\n",
       "      <td>AR</td>\n",
       "      <td>ARG</td>\n",
       "      <td>CO2 emissions</td>\n",
       "      <td>Millions of Metric tons of CO2</td>\n",
       "      <td>OECD (2021), OECD Inter-Country Input-Output D...</td>\n",
       "      <td>ECNC</td>\n",
       "      <td>CO2 Emissions</td>\n",
       "      <td>Environment, Climate Change, Economic Activity...</td>\n",
       "      <td>...</td>\n",
       "      <td>2.648</td>\n",
       "      <td>2.989</td>\n",
       "      <td>3.094</td>\n",
       "      <td>3.129</td>\n",
       "      <td>3.327</td>\n",
       "      <td>3.323</td>\n",
       "      <td>3.345</td>\n",
       "      <td>3.435</td>\n",
       "      <td>3.564</td>\n",
       "      <td>3.584</td>\n",
       "    </tr>\n",
       "  </tbody>\n",
       "</table>\n",
       "<p>5 rows × 36 columns</p>\n",
       "</div>"
      ],
      "text/plain": [
       "   ObjectId    Country ISO2 ISO3      Indicator  \\\n",
       "0         1  Argentina   AR  ARG  CO2 emissions   \n",
       "1         2  Argentina   AR  ARG  CO2 emissions   \n",
       "2         3  Argentina   AR  ARG  CO2 emissions   \n",
       "3         4  Argentina   AR  ARG  CO2 emissions   \n",
       "4         5  Argentina   AR  ARG  CO2 emissions   \n",
       "\n",
       "                             Unit  \\\n",
       "0  Millions of Metric tons of CO2   \n",
       "1  Millions of Metric tons of CO2   \n",
       "2  Millions of Metric tons of CO2   \n",
       "3  Millions of Metric tons of CO2   \n",
       "4  Millions of Metric tons of CO2   \n",
       "\n",
       "                                              Source CTS_Code       CTS_Name  \\\n",
       "0  OECD (2021), OECD Inter-Country Input-Output D...     ECNC  CO2 Emissions   \n",
       "1  OECD (2021), OECD Inter-Country Input-Output D...     ECNC  CO2 Emissions   \n",
       "2  OECD (2021), OECD Inter-Country Input-Output D...     ECNC  CO2 Emissions   \n",
       "3  OECD (2021), OECD Inter-Country Input-Output D...     ECNC  CO2 Emissions   \n",
       "4  OECD (2021), OECD Inter-Country Input-Output D...     ECNC  CO2 Emissions   \n",
       "\n",
       "                                 CTS_Full_Descriptor  ...   F2009   F2010  \\\n",
       "0  Environment, Climate Change, Economic Activity...  ...   0.284   0.319   \n",
       "1  Environment, Climate Change, Economic Activity...  ...   0.000   0.000   \n",
       "2  Environment, Climate Change, Economic Activity...  ...   0.725   0.738   \n",
       "3  Environment, Climate Change, Economic Activity...  ...  13.804  14.110   \n",
       "4  Environment, Climate Change, Economic Activity...  ...   2.648   2.989   \n",
       "\n",
       "    F2011   F2012   F2013   F2014   F2015   F2016   F2017   F2018  \n",
       "0   0.338   0.377   0.378   0.369   0.371   0.303   0.358   0.344  \n",
       "1   0.000   0.000   0.000   0.000   0.000   0.000   0.000   0.000  \n",
       "2   0.765   0.777   0.840   0.794   0.852   0.789   0.846   0.857  \n",
       "3  14.616  14.120  15.358  13.728  14.273  13.838  14.121  13.067  \n",
       "4   3.094   3.129   3.327   3.323   3.345   3.435   3.564   3.584  \n",
       "\n",
       "[5 rows x 36 columns]"
      ]
     },
     "execution_count": 3,
     "metadata": {},
     "output_type": "execute_result"
    }
   ],
   "source": [
    "#get data\n",
    "df = pd.read_csv(\"../Carbon Dioxide Emission/carbon dioxide.csv\")\n",
    "df_backup=df.copy()\n",
    "df.head()"
   ]
  },
  {
   "cell_type": "markdown",
   "id": "d117a9ee",
   "metadata": {},
   "source": [
    "# DATA WRANGLING AND CLEANING"
   ]
  },
  {
   "cell_type": "code",
   "execution_count": 4,
   "id": "a8e0788b",
   "metadata": {},
   "outputs": [
    {
     "name": "stdout",
     "output_type": "stream",
     "text": [
      "<class 'pandas.core.frame.DataFrame'>\n",
      "RangeIndex: 8910 entries, 0 to 8909\n",
      "Data columns (total 36 columns):\n",
      " #   Column               Non-Null Count  Dtype  \n",
      "---  ------               --------------  -----  \n",
      " 0   ObjectId             8910 non-null   int64  \n",
      " 1   Country              8910 non-null   object \n",
      " 2   ISO2                 8910 non-null   object \n",
      " 3   ISO3                 8910 non-null   object \n",
      " 4   Indicator            8910 non-null   object \n",
      " 5   Unit                 8910 non-null   object \n",
      " 6   Source               8910 non-null   object \n",
      " 7   CTS_Code             8910 non-null   object \n",
      " 8   CTS_Name             8910 non-null   object \n",
      " 9   CTS_Full_Descriptor  8910 non-null   object \n",
      " 10  Industry             8910 non-null   object \n",
      " 11  Scale                8910 non-null   object \n",
      " 12  F1995                8910 non-null   float64\n",
      " 13  F1996                8910 non-null   float64\n",
      " 14  F1997                8910 non-null   float64\n",
      " 15  F1998                8910 non-null   float64\n",
      " 16  F1999                8910 non-null   float64\n",
      " 17  F2000                8910 non-null   float64\n",
      " 18  F2001                8910 non-null   float64\n",
      " 19  F2002                8910 non-null   float64\n",
      " 20  F2003                8910 non-null   float64\n",
      " 21  F2004                8910 non-null   float64\n",
      " 22  F2005                8910 non-null   float64\n",
      " 23  F2006                8910 non-null   float64\n",
      " 24  F2007                8910 non-null   float64\n",
      " 25  F2008                8910 non-null   float64\n",
      " 26  F2009                8910 non-null   float64\n",
      " 27  F2010                8910 non-null   float64\n",
      " 28  F2011                8910 non-null   float64\n",
      " 29  F2012                8910 non-null   float64\n",
      " 30  F2013                8910 non-null   float64\n",
      " 31  F2014                8910 non-null   float64\n",
      " 32  F2015                8910 non-null   float64\n",
      " 33  F2016                8910 non-null   float64\n",
      " 34  F2017                8910 non-null   float64\n",
      " 35  F2018                8910 non-null   float64\n",
      "dtypes: float64(24), int64(1), object(11)\n",
      "memory usage: 2.4+ MB\n"
     ]
    },
    {
     "data": {
      "text/plain": [
       "(8910, 36)"
      ]
     },
     "execution_count": 4,
     "metadata": {},
     "output_type": "execute_result"
    }
   ],
   "source": [
    "df.info()\n",
    "df.shape"
   ]
  },
  {
   "cell_type": "code",
   "execution_count": 5,
   "id": "cf30cb38",
   "metadata": {},
   "outputs": [
    {
     "data": {
      "text/plain": [
       "np.False_"
      ]
     },
     "execution_count": 5,
     "metadata": {},
     "output_type": "execute_result"
    }
   ],
   "source": [
    "df.duplicated().any()"
   ]
  },
  {
   "cell_type": "code",
   "execution_count": 6,
   "id": "11e9ca31",
   "metadata": {},
   "outputs": [
    {
     "data": {
      "text/plain": [
       "ObjectId               0\n",
       "Country                0\n",
       "ISO2                   0\n",
       "ISO3                   0\n",
       "Indicator              0\n",
       "Unit                   0\n",
       "Source                 0\n",
       "CTS_Code               0\n",
       "CTS_Name               0\n",
       "CTS_Full_Descriptor    0\n",
       "Industry               0\n",
       "Scale                  0\n",
       "F1995                  0\n",
       "F1996                  0\n",
       "F1997                  0\n",
       "F1998                  0\n",
       "F1999                  0\n",
       "F2000                  0\n",
       "F2001                  0\n",
       "F2002                  0\n",
       "F2003                  0\n",
       "F2004                  0\n",
       "F2005                  0\n",
       "F2006                  0\n",
       "F2007                  0\n",
       "F2008                  0\n",
       "F2009                  0\n",
       "F2010                  0\n",
       "F2011                  0\n",
       "F2012                  0\n",
       "F2013                  0\n",
       "F2014                  0\n",
       "F2015                  0\n",
       "F2016                  0\n",
       "F2017                  0\n",
       "F2018                  0\n",
       "dtype: int64"
      ]
     },
     "execution_count": 6,
     "metadata": {},
     "output_type": "execute_result"
    }
   ],
   "source": [
    "df.isnull().sum()"
   ]
  },
  {
   "cell_type": "code",
   "execution_count": 7,
   "id": "54b4d429",
   "metadata": {},
   "outputs": [],
   "source": [
    "df.drop(['ObjectId','ISO3'],axis=1,inplace=True)\n"
   ]
  },
  {
   "cell_type": "code",
   "execution_count": 8,
   "id": "e2ea82c4",
   "metadata": {},
   "outputs": [
    {
     "data": {
      "text/plain": [
       "Index(['Country', 'ISO2', 'Indicator', 'Unit', 'Source', 'CTS_Code',\n",
       "       'CTS_Name', 'CTS_Full_Descriptor', 'Industry', 'Scale', 'F1995',\n",
       "       'F1996', 'F1997', 'F1998', 'F1999', 'F2000', 'F2001', 'F2002', 'F2003',\n",
       "       'F2004', 'F2005', 'F2006', 'F2007', 'F2008', 'F2009', 'F2010', 'F2011',\n",
       "       'F2012', 'F2013', 'F2014', 'F2015', 'F2016', 'F2017', 'F2018'],\n",
       "      dtype='object')"
      ]
     },
     "execution_count": 8,
     "metadata": {},
     "output_type": "execute_result"
    }
   ],
   "source": [
    "df.columns"
   ]
  },
  {
   "cell_type": "code",
   "execution_count": 9,
   "id": "60a5d246",
   "metadata": {},
   "outputs": [
    {
     "data": {
      "text/plain": [
       "array(['Argentina', 'Australia', 'Austria', 'Belgium', 'Brazil',\n",
       "       'Brunei Darussalam', 'Bulgaria', 'Cambodia', 'Canada', 'Chile',\n",
       "       'China, P.R.: Hong Kong', 'China, P.R.: Mainland', 'Colombia',\n",
       "       'Costa Rica', 'Croatia, Rep. of', 'Cyprus', 'Czech Rep.',\n",
       "       'Denmark', 'Estonia, Rep. of', 'Finland', 'France', 'Germany',\n",
       "       'Greece', 'Hungary', 'Iceland', 'India', 'Indonesia', 'Ireland',\n",
       "       'Israel', 'Italy', 'Japan', 'Kazakhstan, Rep. of',\n",
       "       'Korea, Rep. of', \"Lao People's Dem. Rep.\", 'Latvia', 'Lithuania',\n",
       "       'Luxembourg', 'Malaysia', 'Malta', 'Mexico', 'Morocco', 'Myanmar',\n",
       "       'Netherlands, The', 'New Zealand', 'Norway', 'Peru', 'Philippines',\n",
       "       'Poland, Rep. of', 'Portugal', 'Romania', 'Russian Federation',\n",
       "       'Saudi Arabia', 'Singapore', 'Slovak Rep.', 'Slovenia, Rep. of',\n",
       "       'South Africa', 'Spain', 'Sweden', 'Switzerland',\n",
       "       'Taiwan Province of China', 'Thailand', 'Tunisia', 'Turkey',\n",
       "       'United Kingdom', 'United States', 'Vietnam'], dtype=object)"
      ]
     },
     "execution_count": 9,
     "metadata": {},
     "output_type": "execute_result"
    }
   ],
   "source": [
    "df['Country'].unique()"
   ]
  },
  {
   "cell_type": "code",
   "execution_count": 10,
   "id": "ad0ddf94",
   "metadata": {},
   "outputs": [
    {
     "data": {
      "text/html": [
       "<div>\n",
       "<style scoped>\n",
       "    .dataframe tbody tr th:only-of-type {\n",
       "        vertical-align: middle;\n",
       "    }\n",
       "\n",
       "    .dataframe tbody tr th {\n",
       "        vertical-align: top;\n",
       "    }\n",
       "\n",
       "    .dataframe thead th {\n",
       "        text-align: right;\n",
       "    }\n",
       "</style>\n",
       "<table border=\"1\" class=\"dataframe\">\n",
       "  <thead>\n",
       "    <tr style=\"text-align: right;\">\n",
       "      <th></th>\n",
       "      <th>F1995</th>\n",
       "      <th>F1996</th>\n",
       "      <th>F1997</th>\n",
       "      <th>F1998</th>\n",
       "      <th>F1999</th>\n",
       "      <th>F2000</th>\n",
       "      <th>F2001</th>\n",
       "      <th>F2002</th>\n",
       "      <th>F2003</th>\n",
       "      <th>F2004</th>\n",
       "      <th>...</th>\n",
       "      <th>F2009</th>\n",
       "      <th>F2010</th>\n",
       "      <th>F2011</th>\n",
       "      <th>F2012</th>\n",
       "      <th>F2013</th>\n",
       "      <th>F2014</th>\n",
       "      <th>F2015</th>\n",
       "      <th>F2016</th>\n",
       "      <th>F2017</th>\n",
       "      <th>F2018</th>\n",
       "    </tr>\n",
       "  </thead>\n",
       "  <tbody>\n",
       "    <tr>\n",
       "      <th>count</th>\n",
       "      <td>8910.000000</td>\n",
       "      <td>8910.000000</td>\n",
       "      <td>8910.000000</td>\n",
       "      <td>8910.000000</td>\n",
       "      <td>8910.000000</td>\n",
       "      <td>8910.000000</td>\n",
       "      <td>8910.000000</td>\n",
       "      <td>8910.000000</td>\n",
       "      <td>8910.000000</td>\n",
       "      <td>8910.000000</td>\n",
       "      <td>...</td>\n",
       "      <td>8910.000000</td>\n",
       "      <td>8910.000000</td>\n",
       "      <td>8910.000000</td>\n",
       "      <td>8910.000000</td>\n",
       "      <td>8910.000000</td>\n",
       "      <td>8910.000000</td>\n",
       "      <td>8910.000000</td>\n",
       "      <td>8910.000000</td>\n",
       "      <td>8910.000000</td>\n",
       "      <td>8910.000000</td>\n",
       "    </tr>\n",
       "    <tr>\n",
       "      <th>mean</th>\n",
       "      <td>642.690767</td>\n",
       "      <td>626.247949</td>\n",
       "      <td>597.889064</td>\n",
       "      <td>634.523417</td>\n",
       "      <td>628.532695</td>\n",
       "      <td>584.815129</td>\n",
       "      <td>581.440616</td>\n",
       "      <td>545.903132</td>\n",
       "      <td>490.212486</td>\n",
       "      <td>422.352039</td>\n",
       "      <td>...</td>\n",
       "      <td>277.552219</td>\n",
       "      <td>255.599049</td>\n",
       "      <td>228.419131</td>\n",
       "      <td>226.670976</td>\n",
       "      <td>219.907381</td>\n",
       "      <td>217.131214</td>\n",
       "      <td>254.947335</td>\n",
       "      <td>300.596451</td>\n",
       "      <td>256.180262</td>\n",
       "      <td>224.472003</td>\n",
       "    </tr>\n",
       "    <tr>\n",
       "      <th>std</th>\n",
       "      <td>4630.754009</td>\n",
       "      <td>4370.387146</td>\n",
       "      <td>3440.589143</td>\n",
       "      <td>3472.768617</td>\n",
       "      <td>3072.488297</td>\n",
       "      <td>2403.487481</td>\n",
       "      <td>2405.330851</td>\n",
       "      <td>2168.233614</td>\n",
       "      <td>2003.781611</td>\n",
       "      <td>1735.869105</td>\n",
       "      <td>...</td>\n",
       "      <td>1073.148968</td>\n",
       "      <td>967.957555</td>\n",
       "      <td>885.294193</td>\n",
       "      <td>913.127550</td>\n",
       "      <td>911.191397</td>\n",
       "      <td>800.634281</td>\n",
       "      <td>1154.516988</td>\n",
       "      <td>3413.770262</td>\n",
       "      <td>1516.822242</td>\n",
       "      <td>793.934788</td>\n",
       "    </tr>\n",
       "    <tr>\n",
       "      <th>min</th>\n",
       "      <td>0.000000</td>\n",
       "      <td>0.000000</td>\n",
       "      <td>0.000000</td>\n",
       "      <td>0.000000</td>\n",
       "      <td>0.000000</td>\n",
       "      <td>0.000000</td>\n",
       "      <td>0.000000</td>\n",
       "      <td>0.000000</td>\n",
       "      <td>0.000000</td>\n",
       "      <td>0.000000</td>\n",
       "      <td>...</td>\n",
       "      <td>0.000000</td>\n",
       "      <td>0.000000</td>\n",
       "      <td>0.000000</td>\n",
       "      <td>0.000000</td>\n",
       "      <td>0.000000</td>\n",
       "      <td>0.000000</td>\n",
       "      <td>0.000000</td>\n",
       "      <td>0.000000</td>\n",
       "      <td>0.000000</td>\n",
       "      <td>0.000000</td>\n",
       "    </tr>\n",
       "    <tr>\n",
       "      <th>25%</th>\n",
       "      <td>0.551750</td>\n",
       "      <td>0.579000</td>\n",
       "      <td>0.574250</td>\n",
       "      <td>0.583250</td>\n",
       "      <td>0.606250</td>\n",
       "      <td>0.672000</td>\n",
       "      <td>0.677000</td>\n",
       "      <td>0.702750</td>\n",
       "      <td>0.747000</td>\n",
       "      <td>0.765500</td>\n",
       "      <td>...</td>\n",
       "      <td>0.831250</td>\n",
       "      <td>0.864750</td>\n",
       "      <td>0.870250</td>\n",
       "      <td>0.895000</td>\n",
       "      <td>0.906250</td>\n",
       "      <td>0.889250</td>\n",
       "      <td>0.905000</td>\n",
       "      <td>0.897750</td>\n",
       "      <td>0.962250</td>\n",
       "      <td>0.975000</td>\n",
       "    </tr>\n",
       "    <tr>\n",
       "      <th>50%</th>\n",
       "      <td>51.483010</td>\n",
       "      <td>51.680268</td>\n",
       "      <td>52.319637</td>\n",
       "      <td>54.133453</td>\n",
       "      <td>54.645225</td>\n",
       "      <td>57.685882</td>\n",
       "      <td>59.304477</td>\n",
       "      <td>56.832295</td>\n",
       "      <td>50.775041</td>\n",
       "      <td>44.721861</td>\n",
       "      <td>...</td>\n",
       "      <td>31.513547</td>\n",
       "      <td>29.964705</td>\n",
       "      <td>26.775893</td>\n",
       "      <td>27.436395</td>\n",
       "      <td>26.485056</td>\n",
       "      <td>25.452176</td>\n",
       "      <td>27.371744</td>\n",
       "      <td>27.459369</td>\n",
       "      <td>26.590652</td>\n",
       "      <td>25.698487</td>\n",
       "    </tr>\n",
       "    <tr>\n",
       "      <th>75%</th>\n",
       "      <td>342.525963</td>\n",
       "      <td>339.773235</td>\n",
       "      <td>349.418155</td>\n",
       "      <td>358.978451</td>\n",
       "      <td>357.182242</td>\n",
       "      <td>362.076765</td>\n",
       "      <td>363.397858</td>\n",
       "      <td>340.890874</td>\n",
       "      <td>302.102272</td>\n",
       "      <td>259.409260</td>\n",
       "      <td>...</td>\n",
       "      <td>181.621510</td>\n",
       "      <td>170.145047</td>\n",
       "      <td>149.792878</td>\n",
       "      <td>150.786022</td>\n",
       "      <td>146.083990</td>\n",
       "      <td>148.533203</td>\n",
       "      <td>167.667274</td>\n",
       "      <td>167.091640</td>\n",
       "      <td>158.101021</td>\n",
       "      <td>150.373212</td>\n",
       "    </tr>\n",
       "    <tr>\n",
       "      <th>max</th>\n",
       "      <td>268619.614800</td>\n",
       "      <td>244816.005900</td>\n",
       "      <td>180811.599800</td>\n",
       "      <td>172174.706800</td>\n",
       "      <td>131047.244200</td>\n",
       "      <td>82288.011300</td>\n",
       "      <td>84204.541120</td>\n",
       "      <td>70922.998900</td>\n",
       "      <td>63207.730870</td>\n",
       "      <td>57965.874820</td>\n",
       "      <td>...</td>\n",
       "      <td>29960.060010</td>\n",
       "      <td>28251.186870</td>\n",
       "      <td>29678.748310</td>\n",
       "      <td>29089.169930</td>\n",
       "      <td>32033.948990</td>\n",
       "      <td>17089.568230</td>\n",
       "      <td>53393.751770</td>\n",
       "      <td>220076.705300</td>\n",
       "      <td>85065.783690</td>\n",
       "      <td>20139.395610</td>\n",
       "    </tr>\n",
       "  </tbody>\n",
       "</table>\n",
       "<p>8 rows × 24 columns</p>\n",
       "</div>"
      ],
      "text/plain": [
       "               F1995          F1996          F1997          F1998  \\\n",
       "count    8910.000000    8910.000000    8910.000000    8910.000000   \n",
       "mean      642.690767     626.247949     597.889064     634.523417   \n",
       "std      4630.754009    4370.387146    3440.589143    3472.768617   \n",
       "min         0.000000       0.000000       0.000000       0.000000   \n",
       "25%         0.551750       0.579000       0.574250       0.583250   \n",
       "50%        51.483010      51.680268      52.319637      54.133453   \n",
       "75%       342.525963     339.773235     349.418155     358.978451   \n",
       "max    268619.614800  244816.005900  180811.599800  172174.706800   \n",
       "\n",
       "               F1999         F2000         F2001         F2002         F2003  \\\n",
       "count    8910.000000   8910.000000   8910.000000   8910.000000   8910.000000   \n",
       "mean      628.532695    584.815129    581.440616    545.903132    490.212486   \n",
       "std      3072.488297   2403.487481   2405.330851   2168.233614   2003.781611   \n",
       "min         0.000000      0.000000      0.000000      0.000000      0.000000   \n",
       "25%         0.606250      0.672000      0.677000      0.702750      0.747000   \n",
       "50%        54.645225     57.685882     59.304477     56.832295     50.775041   \n",
       "75%       357.182242    362.076765    363.397858    340.890874    302.102272   \n",
       "max    131047.244200  82288.011300  84204.541120  70922.998900  63207.730870   \n",
       "\n",
       "              F2004  ...         F2009         F2010         F2011  \\\n",
       "count   8910.000000  ...   8910.000000   8910.000000   8910.000000   \n",
       "mean     422.352039  ...    277.552219    255.599049    228.419131   \n",
       "std     1735.869105  ...   1073.148968    967.957555    885.294193   \n",
       "min        0.000000  ...      0.000000      0.000000      0.000000   \n",
       "25%        0.765500  ...      0.831250      0.864750      0.870250   \n",
       "50%       44.721861  ...     31.513547     29.964705     26.775893   \n",
       "75%      259.409260  ...    181.621510    170.145047    149.792878   \n",
       "max    57965.874820  ...  29960.060010  28251.186870  29678.748310   \n",
       "\n",
       "              F2012         F2013         F2014         F2015          F2016  \\\n",
       "count   8910.000000   8910.000000   8910.000000   8910.000000    8910.000000   \n",
       "mean     226.670976    219.907381    217.131214    254.947335     300.596451   \n",
       "std      913.127550    911.191397    800.634281   1154.516988    3413.770262   \n",
       "min        0.000000      0.000000      0.000000      0.000000       0.000000   \n",
       "25%        0.895000      0.906250      0.889250      0.905000       0.897750   \n",
       "50%       27.436395     26.485056     25.452176     27.371744      27.459369   \n",
       "75%      150.786022    146.083990    148.533203    167.667274     167.091640   \n",
       "max    29089.169930  32033.948990  17089.568230  53393.751770  220076.705300   \n",
       "\n",
       "              F2017         F2018  \n",
       "count   8910.000000   8910.000000  \n",
       "mean     256.180262    224.472003  \n",
       "std     1516.822242    793.934788  \n",
       "min        0.000000      0.000000  \n",
       "25%        0.962250      0.975000  \n",
       "50%       26.590652     25.698487  \n",
       "75%      158.101021    150.373212  \n",
       "max    85065.783690  20139.395610  \n",
       "\n",
       "[8 rows x 24 columns]"
      ]
     },
     "execution_count": 10,
     "metadata": {},
     "output_type": "execute_result"
    }
   ],
   "source": [
    "df.describe()"
   ]
  },
  {
   "cell_type": "code",
   "execution_count": 11,
   "id": "8ee7d46e",
   "metadata": {},
   "outputs": [
    {
     "data": {
      "text/html": [
       "<div>\n",
       "<style scoped>\n",
       "    .dataframe tbody tr th:only-of-type {\n",
       "        vertical-align: middle;\n",
       "    }\n",
       "\n",
       "    .dataframe tbody tr th {\n",
       "        vertical-align: top;\n",
       "    }\n",
       "\n",
       "    .dataframe thead th {\n",
       "        text-align: right;\n",
       "    }\n",
       "</style>\n",
       "<table border=\"1\" class=\"dataframe\">\n",
       "  <thead>\n",
       "    <tr style=\"text-align: right;\">\n",
       "      <th></th>\n",
       "      <th>Country</th>\n",
       "      <th>1995</th>\n",
       "      <th>1996</th>\n",
       "      <th>1997</th>\n",
       "      <th>1998</th>\n",
       "      <th>1999</th>\n",
       "      <th>2000</th>\n",
       "      <th>2001</th>\n",
       "      <th>2002</th>\n",
       "      <th>2003</th>\n",
       "      <th>...</th>\n",
       "      <th>2010</th>\n",
       "      <th>2011</th>\n",
       "      <th>2012</th>\n",
       "      <th>2013</th>\n",
       "      <th>2014</th>\n",
       "      <th>2015</th>\n",
       "      <th>2016</th>\n",
       "      <th>2017</th>\n",
       "      <th>2018</th>\n",
       "      <th>Total</th>\n",
       "    </tr>\n",
       "  </thead>\n",
       "  <tbody>\n",
       "    <tr>\n",
       "      <th>61</th>\n",
       "      <td>Tunisia</td>\n",
       "      <td>66564.0</td>\n",
       "      <td>65474.0</td>\n",
       "      <td>71733.0</td>\n",
       "      <td>72509.0</td>\n",
       "      <td>72143.0</td>\n",
       "      <td>79889.0</td>\n",
       "      <td>81536.0</td>\n",
       "      <td>75408.0</td>\n",
       "      <td>64014.0</td>\n",
       "      <td>...</td>\n",
       "      <td>40444.0</td>\n",
       "      <td>38429.0</td>\n",
       "      <td>41289.0</td>\n",
       "      <td>41700.0</td>\n",
       "      <td>44094.0</td>\n",
       "      <td>44547.0</td>\n",
       "      <td>46034.0</td>\n",
       "      <td>48211.0</td>\n",
       "      <td>46644.0</td>\n",
       "      <td>1316681.0</td>\n",
       "    </tr>\n",
       "    <tr>\n",
       "      <th>62</th>\n",
       "      <td>Turkey</td>\n",
       "      <td>48522.0</td>\n",
       "      <td>50106.0</td>\n",
       "      <td>50776.0</td>\n",
       "      <td>49826.0</td>\n",
       "      <td>52805.0</td>\n",
       "      <td>55728.0</td>\n",
       "      <td>67305.0</td>\n",
       "      <td>59187.0</td>\n",
       "      <td>48555.0</td>\n",
       "      <td>...</td>\n",
       "      <td>25984.0</td>\n",
       "      <td>24541.0</td>\n",
       "      <td>24283.0</td>\n",
       "      <td>22713.0</td>\n",
       "      <td>24467.0</td>\n",
       "      <td>30850.0</td>\n",
       "      <td>33544.0</td>\n",
       "      <td>34309.0</td>\n",
       "      <td>34996.0</td>\n",
       "      <td>927383.0</td>\n",
       "    </tr>\n",
       "    <tr>\n",
       "      <th>63</th>\n",
       "      <td>United Kingdom</td>\n",
       "      <td>34633.0</td>\n",
       "      <td>32517.0</td>\n",
       "      <td>29052.0</td>\n",
       "      <td>29488.0</td>\n",
       "      <td>29299.0</td>\n",
       "      <td>29835.0</td>\n",
       "      <td>31809.0</td>\n",
       "      <td>30571.0</td>\n",
       "      <td>27817.0</td>\n",
       "      <td>...</td>\n",
       "      <td>18855.0</td>\n",
       "      <td>16389.0</td>\n",
       "      <td>16375.0</td>\n",
       "      <td>15622.0</td>\n",
       "      <td>14265.0</td>\n",
       "      <td>15406.0</td>\n",
       "      <td>15664.0</td>\n",
       "      <td>14644.0</td>\n",
       "      <td>13182.0</td>\n",
       "      <td>537177.0</td>\n",
       "    </tr>\n",
       "    <tr>\n",
       "      <th>64</th>\n",
       "      <td>United States</td>\n",
       "      <td>65281.0</td>\n",
       "      <td>63058.0</td>\n",
       "      <td>63806.0</td>\n",
       "      <td>63451.0</td>\n",
       "      <td>59294.0</td>\n",
       "      <td>55498.0</td>\n",
       "      <td>51774.0</td>\n",
       "      <td>54945.0</td>\n",
       "      <td>51244.0</td>\n",
       "      <td>...</td>\n",
       "      <td>36534.0</td>\n",
       "      <td>35427.0</td>\n",
       "      <td>33897.0</td>\n",
       "      <td>33202.0</td>\n",
       "      <td>31505.0</td>\n",
       "      <td>31207.0</td>\n",
       "      <td>31467.0</td>\n",
       "      <td>29548.0</td>\n",
       "      <td>27795.0</td>\n",
       "      <td>1077841.0</td>\n",
       "    </tr>\n",
       "    <tr>\n",
       "      <th>65</th>\n",
       "      <td>Vietnam</td>\n",
       "      <td>106102.0</td>\n",
       "      <td>95761.0</td>\n",
       "      <td>103476.0</td>\n",
       "      <td>113129.0</td>\n",
       "      <td>106907.0</td>\n",
       "      <td>104802.0</td>\n",
       "      <td>106500.0</td>\n",
       "      <td>112027.0</td>\n",
       "      <td>101537.0</td>\n",
       "      <td>...</td>\n",
       "      <td>66029.0</td>\n",
       "      <td>55494.0</td>\n",
       "      <td>48852.0</td>\n",
       "      <td>45382.0</td>\n",
       "      <td>45884.0</td>\n",
       "      <td>56621.0</td>\n",
       "      <td>58152.0</td>\n",
       "      <td>53479.0</td>\n",
       "      <td>60322.0</td>\n",
       "      <td>1906880.0</td>\n",
       "    </tr>\n",
       "  </tbody>\n",
       "</table>\n",
       "<p>5 rows × 26 columns</p>\n",
       "</div>"
      ],
      "text/plain": [
       "           Country      1995     1996      1997      1998      1999      2000  \\\n",
       "61         Tunisia   66564.0  65474.0   71733.0   72509.0   72143.0   79889.0   \n",
       "62          Turkey   48522.0  50106.0   50776.0   49826.0   52805.0   55728.0   \n",
       "63  United Kingdom   34633.0  32517.0   29052.0   29488.0   29299.0   29835.0   \n",
       "64   United States   65281.0  63058.0   63806.0   63451.0   59294.0   55498.0   \n",
       "65         Vietnam  106102.0  95761.0  103476.0  113129.0  106907.0  104802.0   \n",
       "\n",
       "        2001      2002      2003  ...     2010     2011     2012     2013  \\\n",
       "61   81536.0   75408.0   64014.0  ...  40444.0  38429.0  41289.0  41700.0   \n",
       "62   67305.0   59187.0   48555.0  ...  25984.0  24541.0  24283.0  22713.0   \n",
       "63   31809.0   30571.0   27817.0  ...  18855.0  16389.0  16375.0  15622.0   \n",
       "64   51774.0   54945.0   51244.0  ...  36534.0  35427.0  33897.0  33202.0   \n",
       "65  106500.0  112027.0  101537.0  ...  66029.0  55494.0  48852.0  45382.0   \n",
       "\n",
       "       2014     2015     2016     2017     2018      Total  \n",
       "61  44094.0  44547.0  46034.0  48211.0  46644.0  1316681.0  \n",
       "62  24467.0  30850.0  33544.0  34309.0  34996.0   927383.0  \n",
       "63  14265.0  15406.0  15664.0  14644.0  13182.0   537177.0  \n",
       "64  31505.0  31207.0  31467.0  29548.0  27795.0  1077841.0  \n",
       "65  45884.0  56621.0  58152.0  53479.0  60322.0  1906880.0  \n",
       "\n",
       "[5 rows x 26 columns]"
      ]
     },
     "execution_count": 11,
     "metadata": {},
     "output_type": "execute_result"
    }
   ],
   "source": [
    "#Group the column to return only one Country value for each year\n",
    "df1=df.filter(regex='F\\d').groupby(df['Country']).sum().reset_index(drop=False)\n",
    "df1['Total']=df1.sum(axis=1, numeric_only= True)\n",
    "df1.columns = df1.columns.str.strip('F')\n",
    "df1.iloc[:,1:]= df1.iloc[:,1:].astype('int64')\n",
    "df1.tail()"
   ]
  },
  {
   "cell_type": "markdown",
   "id": "addc5f4c",
   "metadata": {},
   "source": [
    "# DATA VISUALIZATION"
   ]
  },
  {
   "cell_type": "code",
   "execution_count": 12,
   "id": "0b117e85",
   "metadata": {},
   "outputs": [],
   "source": [
    "# colours\n",
    "low_c = '#dd4124'\n",
    "high_c = '#009473'\n",
    "color=[\"#f94144\",\"#f3722c\",\"#f8961e\",\"#f9c74f\",\"#90be6d\",\"#43aa8b\",\"#577590\",\"#dd4124\",\"#009473\"]\n",
    "plt.rcParams[\"font.family\"] = \"monospace\"\n",
    " "
   ]
  },
  {
   "cell_type": "code",
   "execution_count": 13,
   "id": "7d6fb3d4",
   "metadata": {},
   "outputs": [
    {
     "name": "stderr",
     "output_type": "stream",
     "text": [
      "findfont: Font family 'sanserif' not found.\n",
      "findfont: Font family 'sanserif' not found.\n",
      "findfont: Font family 'sanserif' not found.\n",
      "findfont: Font family 'sanserif' not found.\n",
      "findfont: Font family 'sanserif' not found.\n"
     ]
    },
    {
     "data": {
      "image/png": "[encoded data removed]",
      "text/plain": [
       "<Figure size 900x450 with 1 Axes>"
      ]
     },
     "metadata": {},
     "output_type": "display_data"
    }
   ],
   "source": [
    "# inspiration ; https://www.kaggle.com/gaetanlopez/how-to-make-clean-visualizations\n",
    "# changed code signif.\n",
    "\n",
    "fig = plt.figure(figsize=(6,3),dpi=150)\n",
    "gs = fig.add_gridspec(1, 1)\n",
    "gs.update(wspace=0.2, hspace=0.4)\n",
    "ax0 = fig.add_subplot(gs[0, 0])\n",
    "\n",
    "background_color = \"#fafafa\"\n",
    "fig.patch.set_facecolor(background_color) # figure background color\n",
    "ax0.set_facecolor(background_color) \n",
    "\n",
    "ax0.text(1.167,0.85,\"Carbon Dioxide Emission from 1995-2018\",color='#323232',fontsize=28, fontweight='bold', fontfamily='sanserif',ha='center')\n",
    "ax0.text(1.13,-0.35,\"Stand-out facts\",color='gray',fontsize=28, fontweight='bold', fontfamily='monospace',ha='center')\n",
    "\n",
    "ax0.text(0,0.4,\"Kazakhstan\",color=high_c,fontsize=25, fontweight='bold', fontfamily='monospace',ha='center')\n",
    "ax0.text(0,0.1,\"Highest Carbon Emission\",color='gray',fontsize=15, fontfamily='monospace',ha='center')\n",
    "\n",
    "ax0.text(0.77,0.4,\"Asia\",color=high_c,fontsize=25, fontweight='bold', fontfamily='monospace',ha='center')\n",
    "ax0.text(0.75,0.1,\"Highest in Continent\",color='gray',fontsize=15, fontfamily='monospace',ha='center')\n",
    "\n",
    "ax0.text(1.5,0.4,\"Australia\",color=low_c,fontsize=25, fontweight='bold', fontfamily='monospace',ha='center')\n",
    "ax0.text(1.5,0.1,\"Lowest in Continent\",color='gray',fontsize=15, fontfamily='monospace',ha='center')\n",
    "\n",
    "ax0.text(2.25,0.4,\"Switzerland\",color=low_c,fontsize=25, fontweight='bold', fontfamily='monospace',ha='center')\n",
    "ax0.text(2.25,0.1,\"Lowest Carbon Emission\",color='gray',fontsize=15, fontfamily='monospace',ha='center')\n",
    "\n",
    "ax0.set_yticklabels('')\n",
    "ax0.set_xticklabels('')\n",
    "ax0.tick_params(axis='both',length=0)\n",
    "\n",
    "for s in ['top','right','left','bottom']:\n",
    "    ax0.spines[s].set_visible(False)\n",
    "    \n",
    "import matplotlib.lines as lines\n",
    "l1 = lines.Line2D([0.15, 1.95], [0.67, 0.67], transform=fig.transFigure, figure=fig,color = 'gray', linestyle='-',linewidth = 1.1, alpha = .5)\n",
    "fig.lines.extend([l1])\n",
    "l2 = lines.Line2D([0.15, 1.95], [0.07, 0.07], transform=fig.transFigure, figure=fig,color = 'gray', linestyle='-',linewidth = 1.1, alpha = .5)\n",
    "fig.lines.extend([l2])\n",
    "    \n",
    "plt.show()"
   ]
  },
  {
   "cell_type": "code",
   "execution_count": 14,
   "id": "4f4f0867",
   "metadata": {},
   "outputs": [],
   "source": [
    "df2=df1.sort_values('Total',ascending=False) #sort the value"
   ]
  },
  {
   "cell_type": "code",
   "execution_count": 15,
   "id": "6e2138cf",
   "metadata": {},
   "outputs": [
    {
     "data": {
      "image/png": "[encoded data removed]",
      "text/plain": [
       "<Figure size 2250x2250 with 1 Axes>"
      ]
     },
     "metadata": {},
     "output_type": "display_data"
    }
   ],
   "source": [
    "fig = plt.figure(figsize=(15,15),dpi=150)\n",
    "sns.barplot(x = \"Total\", y = \"Country\", data=df2 ,palette=\"coolwarm\")\n",
    "\n",
    "plt.xlabel(\"Total Emission from 1995-2018 \")\n",
    "plt.ylabel(\"Country\")\n",
    "plt.ticklabel_format(style='plain', axis='x')"
   ]
  },
  {
   "cell_type": "code",
   "execution_count": 16,
   "id": "2b554f05",
   "metadata": {},
   "outputs": [
    {
     "data": {
      "image/png": "[encoded data removed]",
      "text/plain": [
       "<Figure size 1500x800 with 2 Axes>"
      ]
     },
     "metadata": {},
     "output_type": "display_data"
    }
   ],
   "source": [
    "# Assuming 'df2' and 'color' are already defined\n",
    "\n",
    "top5 = df2.head(5)\n",
    "bot5 = df2.tail(5)\n",
    "\n",
    "fig, (ax1, ax2) = plt.subplots(2, 1, figsize=(15, 8))  # Create figure and subplots\n",
    "\n",
    "plt.suptitle(\"Countries With Highest and Lowest CO2 Emission\",\n",
    "             family='Serif', weight='bold', size=30)\n",
    "\n",
    "ax1 = sns.barplot(data=top5, x=top5['Total'], y=top5['Country'], color=color[5], ax=ax1)\n",
    "ax1.set_xlabel('Total Emission from 1995-2018 (per Metric tons) ')\n",
    "ax1.xaxis.set_visible(True)\n",
    "ax1.annotate(\"Top 5 countries With Highest CO2 Emission\", xy=(18, 2),\n",
    "             family='Serif', weight='bold', size=12)\n",
    "\n",
    "ax2 = sns.barplot(data=bot5, x=bot5['Total'], y=bot5['Country'], color=color[0], ax=ax2)\n",
    "ax2.annotate(\"Bottom 5 countries with Lowest CO2 Emission\", xy=(8, 2),\n",
    "             family='Serif', weight='bold', size=12)\n",
    "ax2.set_xlabel('Total Emission from 1995-2018 (per Metric tons) ')\n",
    "ax2.xaxis.set_visible(True)\n",
    "\n",
    "# Remove spines for both axes at once\n",
    "for s in ['left', 'right', 'top', 'bottom']:\n",
    "    ax1.spines[s].set_visible(False)\n",
    "    ax2.spines[s].set_visible(False)\n",
    "\n",
    "plt.show()  # Display the plot\n"
   ]
  },
  {
   "cell_type": "code",
   "execution_count": 17,
   "id": "01e60e57",
   "metadata": {},
   "outputs": [],
   "source": [
    "df6=top5\n",
    "del df6['Total']\n",
    "dfm2 = df6.melt('Country', var_name='Year', value_name='Emission')"
   ]
  },
  {
   "cell_type": "code",
   "execution_count": 18,
   "id": "30aad755",
   "metadata": {},
   "outputs": [
    {
     "data": {
      "image/png": "[encoded data removed]",
      "text/plain": [
       "<Figure size 6160x2240 with 1 Axes>"
      ]
     },
     "metadata": {},
     "output_type": "display_data"
    }
   ],
   "source": [
    "plt.figure(figsize=(22, 8), dpi=280)\n",
    "g = sns.scatterplot(x=\"Year\", y=\"Emission\", hue='Country', data=dfm2)\n"
   ]
  },
  {
   "cell_type": "code",
   "execution_count": 19,
   "id": "c73bb4bf",
   "metadata": {},
   "outputs": [
    {
     "data": {
      "application/vnd.plotly.v1+json": {
       "config": {
        "plotlyServerURL": "https://plot.ly"
       },
       "data": [
        {
         "alignmentgroup": "True",
         "hovertemplate": "Country=%{y}<br>Emission=%{x}<extra></extra>",
         "legendgroup": "Kazakhstan, Rep. of",
         "marker": {
          "color": "#636efa"
         },
         "name": "Kazakhstan, Rep. of",
         "notched": false,
         "offsetgroup": "Kazakhstan, Rep. of",
         "orientation": "h",
         "showlegend": true,
         "type": "box",
         "x": [
          1022501,
          915997,
          696541,
          698809,
          683015,
          501442,
          480284,
          404794,
          400444,
          336345,
          290727,
          184814,
          174477,
          183201,
          158452,
          142629,
          135027,
          111633,
          131435,
          92554,
          75563,
          100386,
          98068,
          84520
         ],
         "x0": " ",
         "xaxis": "x",
         "y": [
          "Kazakhstan, Rep. of",
          "Kazakhstan, Rep. of",
          "Kazakhstan, Rep. of",
          "Kazakhstan, Rep. of",
          "Kazakhstan, Rep. of",
          "Kazakhstan, Rep. of",
          "Kazakhstan, Rep. of",
          "Kazakhstan, Rep. of",
          "Kazakhstan, Rep. of",
          "Kazakhstan, Rep. of",
          "Kazakhstan, Rep. of",
          "Kazakhstan, Rep. of",
          "Kazakhstan, Rep. of",
          "Kazakhstan, Rep. of",
          "Kazakhstan, Rep. of",
          "Kazakhstan, Rep. of",
          "Kazakhstan, Rep. of",
          "Kazakhstan, Rep. of",
          "Kazakhstan, Rep. of",
          "Kazakhstan, Rep. of",
          "Kazakhstan, Rep. of",
          "Kazakhstan, Rep. of",
          "Kazakhstan, Rep. of",
          "Kazakhstan, Rep. of"
         ],
         "y0": " ",
         "yaxis": "y"
        },
        {
         "alignmentgroup": "True",
         "hovertemplate": "Country=%{y}<br>Emission=%{x}<extra></extra>",
         "legendgroup": "South Africa",
         "marker": {
          "color": "#EF553B"
         },
         "name": "South Africa",
         "notched": false,
         "offsetgroup": "South Africa",
         "orientation": "h",
         "showlegend": true,
         "type": "box",
         "x": [
          189092,
          206024,
          202550,
          236064,
          230360,
          221289,
          257119,
          271510,
          200306,
          163093,
          147014,
          136091,
          124645,
          136999,
          133608,
          100274,
          85869,
          90155,
          96493,
          101416,
          105673,
          113243,
          95438,
          96192
         ],
         "x0": " ",
         "xaxis": "x",
         "y": [
          "South Africa",
          "South Africa",
          "South Africa",
          "South Africa",
          "South Africa",
          "South Africa",
          "South Africa",
          "South Africa",
          "South Africa",
          "South Africa",
          "South Africa",
          "South Africa",
          "South Africa",
          "South Africa",
          "South Africa",
          "South Africa",
          "South Africa",
          "South Africa",
          "South Africa",
          "South Africa",
          "South Africa",
          "South Africa",
          "South Africa",
          "South Africa"
         ],
         "y0": " ",
         "yaxis": "y"
        },
        {
         "alignmentgroup": "True",
         "hovertemplate": "Country=%{y}<br>Emission=%{x}<extra></extra>",
         "legendgroup": "Russian Federation",
         "marker": {
          "color": "#00cc96"
         },
         "name": "Russian Federation",
         "notched": false,
         "offsetgroup": "Russian Federation",
         "orientation": "h",
         "showlegend": true,
         "type": "box",
         "x": [
          278373,
          233256,
          211615,
          303847,
          399547,
          316686,
          277536,
          248123,
          202930,
          149665,
          119756,
          97609,
          75735,
          60606,
          76168,
          64905,
          56341,
          53292,
          51244,
          56886,
          78066,
          81244,
          66561,
          64014
         ],
         "x0": " ",
         "xaxis": "x",
         "y": [
          "Russian Federation",
          "Russian Federation",
          "Russian Federation",
          "Russian Federation",
          "Russian Federation",
          "Russian Federation",
          "Russian Federation",
          "Russian Federation",
          "Russian Federation",
          "Russian Federation",
          "Russian Federation",
          "Russian Federation",
          "Russian Federation",
          "Russian Federation",
          "Russian Federation",
          "Russian Federation",
          "Russian Federation",
          "Russian Federation",
          "Russian Federation",
          "Russian Federation",
          "Russian Federation",
          "Russian Federation",
          "Russian Federation",
          "Russian Federation"
         ],
         "y0": " ",
         "yaxis": "y"
        },
        {
         "alignmentgroup": "True",
         "hovertemplate": "Country=%{y}<br>Emission=%{x}<extra></extra>",
         "legendgroup": "Saudi Arabia",
         "marker": {
          "color": "#ab63fa"
         },
         "name": "Saudi Arabia",
         "notched": false,
         "offsetgroup": "Saudi Arabia",
         "orientation": "h",
         "showlegend": true,
         "type": "box",
         "x": [
          196641,
          193740,
          182157,
          213698,
          212012,
          193197,
          194897,
          204415,
          190106,
          151450,
          140010,
          132955,
          130367,
          128265,
          138768,
          132982,
          119210,
          112223,
          97564,
          105462,
          111785,
          106991,
          98917,
          86427
         ],
         "x0": " ",
         "xaxis": "x",
         "y": [
          "Saudi Arabia",
          "Saudi Arabia",
          "Saudi Arabia",
          "Saudi Arabia",
          "Saudi Arabia",
          "Saudi Arabia",
          "Saudi Arabia",
          "Saudi Arabia",
          "Saudi Arabia",
          "Saudi Arabia",
          "Saudi Arabia",
          "Saudi Arabia",
          "Saudi Arabia",
          "Saudi Arabia",
          "Saudi Arabia",
          "Saudi Arabia",
          "Saudi Arabia",
          "Saudi Arabia",
          "Saudi Arabia",
          "Saudi Arabia",
          "Saudi Arabia",
          "Saudi Arabia",
          "Saudi Arabia",
          "Saudi Arabia"
         ],
         "y0": " ",
         "yaxis": "y"
        },
        {
         "alignmentgroup": "True",
         "hovertemplate": "Country=%{y}<br>Emission=%{x}<extra></extra>",
         "legendgroup": "China, P.R.: Mainland",
         "marker": {
          "color": "#FFA15A"
         },
         "name": "China, P.R.: Mainland",
         "notched": false,
         "offsetgroup": "China, P.R.: Mainland",
         "orientation": "h",
         "showlegend": true,
         "type": "box",
         "x": [
          224140,
          206817,
          182622,
          181806,
          166103,
          157773,
          157753,
          154860,
          148666,
          144187,
          138898,
          126623,
          107996,
          85673,
          89099,
          82299,
          73591,
          68422,
          64992,
          60169,
          59126,
          62086,
          60427,
          55831
         ],
         "x0": " ",
         "xaxis": "x",
         "y": [
          "China, P.R.: Mainland",
          "China, P.R.: Mainland",
          "China, P.R.: Mainland",
          "China, P.R.: Mainland",
          "China, P.R.: Mainland",
          "China, P.R.: Mainland",
          "China, P.R.: Mainland",
          "China, P.R.: Mainland",
          "China, P.R.: Mainland",
          "China, P.R.: Mainland",
          "China, P.R.: Mainland",
          "China, P.R.: Mainland",
          "China, P.R.: Mainland",
          "China, P.R.: Mainland",
          "China, P.R.: Mainland",
          "China, P.R.: Mainland",
          "China, P.R.: Mainland",
          "China, P.R.: Mainland",
          "China, P.R.: Mainland",
          "China, P.R.: Mainland",
          "China, P.R.: Mainland",
          "China, P.R.: Mainland",
          "China, P.R.: Mainland",
          "China, P.R.: Mainland"
         ],
         "y0": " ",
         "yaxis": "y"
        }
       ],
       "layout": {
        "boxmode": "overlay",
        "legend": {
         "title": {
          "text": "Country"
         },
         "tracegroupgap": 0
        },
        "template": {
         "data": {
          "bar": [
           {
            "error_x": {
             "color": "#2a3f5f"
            },
            "error_y": {
             "color": "#2a3f5f"
            },
            "marker": {
             "line": {
              "color": "#E5ECF6",
              "width": 0.5
             },
             "pattern": {
              "fillmode": "overlay",
              "size": 10,
              "solidity": 0.2
             }
            },
            "type": "bar"
           }
          ],
          "barpolar": [
           {
            "marker": {
             "line": {
              "color": "#E5ECF6",
              "width": 0.5
             },
             "pattern": {
              "fillmode": "overlay",
              "size": 10,
              "solidity": 0.2
             }
            },
            "type": "barpolar"
           }
          ],
          "carpet": [
           {
            "aaxis": {
             "endlinecolor": "#2a3f5f",
             "gridcolor": "white",
             "linecolor": "white",
             "minorgridcolor": "white",
             "startlinecolor": "#2a3f5f"
            },
            "baxis": {
             "endlinecolor": "#2a3f5f",
             "gridcolor": "white",
             "linecolor": "white",
             "minorgridcolor": "white",
             "startlinecolor": "#2a3f5f"
            },
            "type": "carpet"
           }
          ],
          "choropleth": [
           {
            "colorbar": {
             "outlinewidth": 0,
             "ticks": ""
            },
            "type": "choropleth"
           }
          ],
          "contour": [
           {
            "colorbar": {
             "outlinewidth": 0,
             "ticks": ""
            },
            "colorscale": [
             [
              0,
              "#0d0887"
             ],
             [
              0.1111111111111111,
              "#46039f"
             ],
             [
              0.2222222222222222,
              "#7201a8"
             ],
             [
              0.3333333333333333,
              "#9c179e"
             ],
             [
              0.4444444444444444,
              "#bd3786"
             ],
             [
              0.5555555555555556,
              "#d8576b"
             ],
             [
              0.6666666666666666,
              "#ed7953"
             ],
             [
              0.7777777777777778,
              "#fb9f3a"
             ],
             [
              0.8888888888888888,
              "#fdca26"
             ],
             [
              1,
              "#f0f921"
             ]
            ],
            "type": "contour"
           }
          ],
          "contourcarpet": [
           {
            "colorbar": {
             "outlinewidth": 0,
             "ticks": ""
            },
            "type": "contourcarpet"
           }
          ],
          "heatmap": [
           {
            "colorbar": {
             "outlinewidth": 0,
             "ticks": ""
            },
            "colorscale": [
             [
              0,
              "#0d0887"
             ],
             [
              0.1111111111111111,
              "#46039f"
             ],
             [
              0.2222222222222222,
              "#7201a8"
             ],
             [
              0.3333333333333333,
              "#9c179e"
             ],
             [
              0.4444444444444444,
              "#bd3786"
             ],
             [
              0.5555555555555556,
              "#d8576b"
             ],
             [
              0.6666666666666666,
              "#ed7953"
             ],
             [
              0.7777777777777778,
              "#fb9f3a"
             ],
             [
              0.8888888888888888,
              "#fdca26"
             ],
             [
              1,
              "#f0f921"
             ]
            ],
            "type": "heatmap"
           }
          ],
          "heatmapgl": [
           {
            "colorbar": {
             "outlinewidth": 0,
             "ticks": ""
            },
            "colorscale": [
             [
              0,
              "#0d0887"
             ],
             [
              0.1111111111111111,
              "#46039f"
             ],
             [
              0.2222222222222222,
              "#7201a8"
             ],
             [
              0.3333333333333333,
              "#9c179e"
             ],
             [
              0.4444444444444444,
              "#bd3786"
             ],
             [
              0.5555555555555556,
              "#d8576b"
             ],
             [
              0.6666666666666666,
              "#ed7953"
             ],
             [
              0.7777777777777778,
              "#fb9f3a"
             ],
             [
              0.8888888888888888,
              "#fdca26"
             ],
             [
              1,
              "#f0f921"
             ]
            ],
            "type": "heatmapgl"
           }
          ],
          "histogram": [
           {
            "marker": {
             "pattern": {
              "fillmode": "overlay",
              "size": 10,
              "solidity": 0.2
             }
            },
            "type": "histogram"
           }
          ],
          "histogram2d": [
           {
            "colorbar": {
             "outlinewidth": 0,
             "ticks": ""
            },
            "colorscale": [
             [
              0,
              "#0d0887"
             ],
             [
              0.1111111111111111,
              "#46039f"
             ],
             [
              0.2222222222222222,
              "#7201a8"
             ],
             [
              0.3333333333333333,
              "#9c179e"
             ],
             [
              0.4444444444444444,
              "#bd3786"
             ],
             [
              0.5555555555555556,
              "#d8576b"
             ],
             [
              0.6666666666666666,
              "#ed7953"
             ],
             [
              0.7777777777777778,
              "#fb9f3a"
             ],
             [
              0.8888888888888888,
              "#fdca26"
             ],
             [
              1,
              "#f0f921"
             ]
            ],
            "type": "histogram2d"
           }
          ],
          "histogram2dcontour": [
           {
            "colorbar": {
             "outlinewidth": 0,
             "ticks": ""
            },
            "colorscale": [
             [
              0,
              "#0d0887"
             ],
             [
              0.1111111111111111,
              "#46039f"
             ],
             [
              0.2222222222222222,
              "#7201a8"
             ],
             [
              0.3333333333333333,
              "#9c179e"
             ],
             [
              0.4444444444444444,
              "#bd3786"
             ],
             [
              0.5555555555555556,
              "#d8576b"
             ],
             [
              0.6666666666666666,
              "#ed7953"
             ],
             [
              0.7777777777777778,
              "#fb9f3a"
             ],
             [
              0.8888888888888888,
              "#fdca26"
             ],
             [
              1,
              "#f0f921"
             ]
            ],
            "type": "histogram2dcontour"
           }
          ],
          "mesh3d": [
           {
            "colorbar": {
             "outlinewidth": 0,
             "ticks": ""
            },
            "type": "mesh3d"
           }
          ],
          "parcoords": [
           {
            "line": {
             "colorbar": {
              "outlinewidth": 0,
              "ticks": ""
             }
            },
            "type": "parcoords"
           }
          ],
          "pie": [
           {
            "automargin": true,
            "type": "pie"
           }
          ],
          "scatter": [
           {
            "fillpattern": {
             "fillmode": "overlay",
             "size": 10,
             "solidity": 0.2
            },
            "type": "scatter"
           }
          ],
          "scatter3d": [
           {
            "line": {
             "colorbar": {
              "outlinewidth": 0,
              "ticks": ""
             }
            },
            "marker": {
             "colorbar": {
              "outlinewidth": 0,
              "ticks": ""
             }
            },
            "type": "scatter3d"
           }
          ],
          "scattercarpet": [
           {
            "marker": {
             "colorbar": {
              "outlinewidth": 0,
              "ticks": ""
             }
            },
            "type": "scattercarpet"
           }
          ],
          "scattergeo": [
           {
            "marker": {
             "colorbar": {
              "outlinewidth": 0,
              "ticks": ""
             }
            },
            "type": "scattergeo"
           }
          ],
          "scattergl": [
           {
            "marker": {
             "colorbar": {
              "outlinewidth": 0,
              "ticks": ""
             }
            },
            "type": "scattergl"
           }
          ],
          "scattermapbox": [
           {
            "marker": {
             "colorbar": {
              "outlinewidth": 0,
              "ticks": ""
             }
            },
            "type": "scattermapbox"
           }
          ],
          "scatterpolar": [
           {
            "marker": {
             "colorbar": {
              "outlinewidth": 0,
              "ticks": ""
             }
            },
            "type": "scatterpolar"
           }
          ],
          "scatterpolargl": [
           {
            "marker": {
             "colorbar": {
              "outlinewidth": 0,
              "ticks": ""
             }
            },
            "type": "scatterpolargl"
           }
          ],
          "scatterternary": [
           {
            "marker": {
             "colorbar": {
              "outlinewidth": 0,
              "ticks": ""
             }
            },
            "type": "scatterternary"
           }
          ],
          "surface": [
           {
            "colorbar": {
             "outlinewidth": 0,
             "ticks": ""
            },
            "colorscale": [
             [
              0,
              "#0d0887"
             ],
             [
              0.1111111111111111,
              "#46039f"
             ],
             [
              0.2222222222222222,
              "#7201a8"
             ],
             [
              0.3333333333333333,
              "#9c179e"
             ],
             [
              0.4444444444444444,
              "#bd3786"
             ],
             [
              0.5555555555555556,
              "#d8576b"
             ],
             [
              0.6666666666666666,
              "#ed7953"
             ],
             [
              0.7777777777777778,
              "#fb9f3a"
             ],
             [
              0.8888888888888888,
              "#fdca26"
             ],
             [
              1,
              "#f0f921"
             ]
            ],
            "type": "surface"
           }
          ],
          "table": [
           {
            "cells": {
             "fill": {
              "color": "#EBF0F8"
             },
             "line": {
              "color": "white"
             }
            },
            "header": {
             "fill": {
              "color": "#C8D4E3"
             },
             "line": {
              "color": "white"
             }
            },
            "type": "table"
           }
          ]
         },
         "layout": {
          "annotationdefaults": {
           "arrowcolor": "#2a3f5f",
           "arrowhead": 0,
           "arrowwidth": 1
          },
          "autotypenumbers": "strict",
          "coloraxis": {
           "colorbar": {
            "outlinewidth": 0,
            "ticks": ""
           }
          },
          "colorscale": {
           "diverging": [
            [
             0,
             "#8e0152"
            ],
            [
             0.1,
             "#c51b7d"
            ],
            [
             0.2,
             "#de77ae"
            ],
            [
             0.3,
             "#f1b6da"
            ],
            [
             0.4,
             "#fde0ef"
            ],
            [
             0.5,
             "#f7f7f7"
            ],
            [
             0.6,
             "#e6f5d0"
            ],
            [
             0.7,
             "#b8e186"
            ],
            [
             0.8,
             "#7fbc41"
            ],
            [
             0.9,
             "#4d9221"
            ],
            [
             1,
             "#276419"
            ]
           ],
           "sequential": [
            [
             0,
             "#0d0887"
            ],
            [
             0.1111111111111111,
             "#46039f"
            ],
            [
             0.2222222222222222,
             "#7201a8"
            ],
            [
             0.3333333333333333,
             "#9c179e"
            ],
            [
             0.4444444444444444,
             "#bd3786"
            ],
            [
             0.5555555555555556,
             "#d8576b"
            ],
            [
             0.6666666666666666,
             "#ed7953"
            ],
            [
             0.7777777777777778,
             "#fb9f3a"
            ],
            [
             0.8888888888888888,
             "#fdca26"
            ],
            [
             1,
             "#f0f921"
            ]
           ],
           "sequentialminus": [
            [
             0,
             "#0d0887"
            ],
            [
             0.1111111111111111,
             "#46039f"
            ],
            [
             0.2222222222222222,
             "#7201a8"
            ],
            [
             0.3333333333333333,
             "#9c179e"
            ],
            [
             0.4444444444444444,
             "#bd3786"
            ],
            [
             0.5555555555555556,
             "#d8576b"
            ],
            [
             0.6666666666666666,
             "#ed7953"
            ],
            [
             0.7777777777777778,
             "#fb9f3a"
            ],
            [
             0.8888888888888888,
             "#fdca26"
            ],
            [
             1,
             "#f0f921"
            ]
           ]
          },
          "colorway": [
           "#636efa",
           "#EF553B",
           "#00cc96",
           "#ab63fa",
           "#FFA15A",
           "#19d3f3",
           "#FF6692",
           "#B6E880",
           "#FF97FF",
           "#FECB52"
          ],
          "font": {
           "color": "#2a3f5f"
          },
          "geo": {
           "bgcolor": "white",
           "lakecolor": "white",
           "landcolor": "#E5ECF6",
           "showlakes": true,
           "showland": true,
           "subunitcolor": "white"
          },
          "hoverlabel": {
           "align": "left"
          },
          "hovermode": "closest",
          "mapbox": {
           "style": "light"
          },
          "paper_bgcolor": "white",
          "plot_bgcolor": "#E5ECF6",
          "polar": {
           "angularaxis": {
            "gridcolor": "white",
            "linecolor": "white",
            "ticks": ""
           },
           "bgcolor": "#E5ECF6",
           "radialaxis": {
            "gridcolor": "white",
            "linecolor": "white",
            "ticks": ""
           }
          },
          "scene": {
           "xaxis": {
            "backgroundcolor": "#E5ECF6",
            "gridcolor": "white",
            "gridwidth": 2,
            "linecolor": "white",
            "showbackground": true,
            "ticks": "",
            "zerolinecolor": "white"
           },
           "yaxis": {
            "backgroundcolor": "#E5ECF6",
            "gridcolor": "white",
            "gridwidth": 2,
            "linecolor": "white",
            "showbackground": true,
            "ticks": "",
            "zerolinecolor": "white"
           },
           "zaxis": {
            "backgroundcolor": "#E5ECF6",
            "gridcolor": "white",
            "gridwidth": 2,
            "linecolor": "white",
            "showbackground": true,
            "ticks": "",
            "zerolinecolor": "white"
           }
          },
          "shapedefaults": {
           "line": {
            "color": "#2a3f5f"
           }
          },
          "ternary": {
           "aaxis": {
            "gridcolor": "white",
            "linecolor": "white",
            "ticks": ""
           },
           "baxis": {
            "gridcolor": "white",
            "linecolor": "white",
            "ticks": ""
           },
           "bgcolor": "#E5ECF6",
           "caxis": {
            "gridcolor": "white",
            "linecolor": "white",
            "ticks": ""
           }
          },
          "title": {
           "x": 0.05
          },
          "xaxis": {
           "automargin": true,
           "gridcolor": "white",
           "linecolor": "white",
           "ticks": "",
           "title": {
            "standoff": 15
           },
           "zerolinecolor": "white",
           "zerolinewidth": 2
          },
          "yaxis": {
           "automargin": true,
           "gridcolor": "white",
           "linecolor": "white",
           "ticks": "",
           "title": {
            "standoff": 15
           },
           "zerolinecolor": "white",
           "zerolinewidth": 2
          }
         }
        },
        "title": {
         "text": "Variation of Carbon Emission for Top 5 Countries"
        },
        "xaxis": {
         "anchor": "y",
         "domain": [
          0,
          1
         ],
         "title": {
          "text": "Emission"
         }
        },
        "yaxis": {
         "anchor": "x",
         "categoryarray": [
          "China, P.R.: Mainland",
          "Saudi Arabia",
          "Russian Federation",
          "South Africa",
          "Kazakhstan, Rep. of"
         ],
         "categoryorder": "array",
         "domain": [
          0,
          1
         ],
         "title": {
          "text": "Country"
         }
        }
       }
      }
     },
     "metadata": {},
     "output_type": "display_data"
    }
   ],
   "source": [
    "px.box(data_frame=dfm2, x='Emission', y='Country', color='Country', title='Variation of Carbon Emission for Top 5 Countries')\n"
   ]
  },
  {
   "cell_type": "code",
   "execution_count": 20,
   "id": "02b73642",
   "metadata": {},
   "outputs": [],
   "source": [
    "dfm2['5years']=1\n",
    "\n",
    "dfm2['5years'][dfm2['Year'].between('1995','2000')]='1995-2000'\n",
    "dfm2['5years'][dfm2['Year'].between('2001','2005')]='2001-2005'\n",
    "dfm2['5years'][dfm2['Year'].between('2006','2010')]='2006-2010'\n",
    "dfm2['5years'][dfm2['Year'].between('2011','2015')]='2011-2015'\n",
    "dfm2['5years'][dfm2['Year'].between('2016','2018')]='2016-2018'"
   ]
  },
  {
   "cell_type": "code",
   "execution_count": 21,
   "id": "7eb225ec",
   "metadata": {},
   "outputs": [
    {
     "data": {
      "application/vnd.plotly.v1+json": {
       "config": {
        "plotlyServerURL": "https://plot.ly"
       },
       "data": [
        {
         "alignmentgroup": "True",
         "hovertemplate": "Country=%{y}<br>5years=1995-2000<br>Emission=%{x}<extra></extra>",
         "legendgroup": "Kazakhstan, Rep. of",
         "marker": {
          "color": "#636efa"
         },
         "name": "Kazakhstan, Rep. of",
         "notched": false,
         "offsetgroup": "Kazakhstan, Rep. of",
         "orientation": "h",
         "showlegend": true,
         "type": "box",
         "x": [
          1022501,
          915997,
          696541,
          698809,
          683015,
          501442
         ],
         "x0": " ",
         "xaxis": "x",
         "y": [
          "Kazakhstan, Rep. of",
          "Kazakhstan, Rep. of",
          "Kazakhstan, Rep. of",
          "Kazakhstan, Rep. of",
          "Kazakhstan, Rep. of",
          "Kazakhstan, Rep. of"
         ],
         "y0": " ",
         "yaxis": "y"
        },
        {
         "alignmentgroup": "True",
         "hovertemplate": "Country=%{y}<br>5years=2001-2005<br>Emission=%{x}<extra></extra>",
         "legendgroup": "Kazakhstan, Rep. of",
         "marker": {
          "color": "#636efa"
         },
         "name": "Kazakhstan, Rep. of",
         "notched": false,
         "offsetgroup": "Kazakhstan, Rep. of",
         "orientation": "h",
         "showlegend": false,
         "type": "box",
         "x": [
          480284,
          404794,
          400444,
          336345,
          290727
         ],
         "x0": " ",
         "xaxis": "x2",
         "y": [
          "Kazakhstan, Rep. of",
          "Kazakhstan, Rep. of",
          "Kazakhstan, Rep. of",
          "Kazakhstan, Rep. of",
          "Kazakhstan, Rep. of"
         ],
         "y0": " ",
         "yaxis": "y2"
        },
        {
         "alignmentgroup": "True",
         "hovertemplate": "Country=%{y}<br>5years=2006-2010<br>Emission=%{x}<extra></extra>",
         "legendgroup": "Kazakhstan, Rep. of",
         "marker": {
          "color": "#636efa"
         },
         "name": "Kazakhstan, Rep. of",
         "notched": false,
         "offsetgroup": "Kazakhstan, Rep. of",
         "orientation": "h",
         "showlegend": false,
         "type": "box",
         "x": [
          184814,
          174477,
          183201,
          158452,
          142629
         ],
         "x0": " ",
         "xaxis": "x3",
         "y": [
          "Kazakhstan, Rep. of",
          "Kazakhstan, Rep. of",
          "Kazakhstan, Rep. of",
          "Kazakhstan, Rep. of",
          "Kazakhstan, Rep. of"
         ],
         "y0": " ",
         "yaxis": "y3"
        },
        {
         "alignmentgroup": "True",
         "hovertemplate": "Country=%{y}<br>5years=2011-2015<br>Emission=%{x}<extra></extra>",
         "legendgroup": "Kazakhstan, Rep. of",
         "marker": {
          "color": "#636efa"
         },
         "name": "Kazakhstan, Rep. of",
         "notched": false,
         "offsetgroup": "Kazakhstan, Rep. of",
         "orientation": "h",
         "showlegend": false,
         "type": "box",
         "x": [
          135027,
          111633,
          131435,
          92554,
          75563
         ],
         "x0": " ",
         "xaxis": "x4",
         "y": [
          "Kazakhstan, Rep. of",
          "Kazakhstan, Rep. of",
          "Kazakhstan, Rep. of",
          "Kazakhstan, Rep. of",
          "Kazakhstan, Rep. of"
         ],
         "y0": " ",
         "yaxis": "y4"
        },
        {
         "alignmentgroup": "True",
         "hovertemplate": "Country=%{y}<br>5years=2016-2018<br>Emission=%{x}<extra></extra>",
         "legendgroup": "Kazakhstan, Rep. of",
         "marker": {
          "color": "#636efa"
         },
         "name": "Kazakhstan, Rep. of",
         "notched": false,
         "offsetgroup": "Kazakhstan, Rep. of",
         "orientation": "h",
         "showlegend": false,
         "type": "box",
         "x": [
          100386,
          98068,
          84520
         ],
         "x0": " ",
         "xaxis": "x5",
         "y": [
          "Kazakhstan, Rep. of",
          "Kazakhstan, Rep. of",
          "Kazakhstan, Rep. of"
         ],
         "y0": " ",
         "yaxis": "y5"
        },
        {
         "alignmentgroup": "True",
         "hovertemplate": "Country=%{y}<br>5years=1995-2000<br>Emission=%{x}<extra></extra>",
         "legendgroup": "South Africa",
         "marker": {
          "color": "#EF553B"
         },
         "name": "South Africa",
         "notched": false,
         "offsetgroup": "South Africa",
         "orientation": "h",
         "showlegend": true,
         "type": "box",
         "x": [
          189092,
          206024,
          202550,
          236064,
          230360,
          221289
         ],
         "x0": " ",
         "xaxis": "x",
         "y": [
          "South Africa",
          "South Africa",
          "South Africa",
          "South Africa",
          "South Africa",
          "South Africa"
         ],
         "y0": " ",
         "yaxis": "y"
        },
        {
         "alignmentgroup": "True",
         "hovertemplate": "Country=%{y}<br>5years=2001-2005<br>Emission=%{x}<extra></extra>",
         "legendgroup": "South Africa",
         "marker": {
          "color": "#EF553B"
         },
         "name": "South Africa",
         "notched": false,
         "offsetgroup": "South Africa",
         "orientation": "h",
         "showlegend": false,
         "type": "box",
         "x": [
          257119,
          271510,
          200306,
          163093,
          147014
         ],
         "x0": " ",
         "xaxis": "x2",
         "y": [
          "South Africa",
          "South Africa",
          "South Africa",
          "South Africa",
          "South Africa"
         ],
         "y0": " ",
         "yaxis": "y2"
        },
        {
         "alignmentgroup": "True",
         "hovertemplate": "Country=%{y}<br>5years=2006-2010<br>Emission=%{x}<extra></extra>",
         "legendgroup": "South Africa",
         "marker": {
          "color": "#EF553B"
         },
         "name": "South Africa",
         "notched": false,
         "offsetgroup": "South Africa",
         "orientation": "h",
         "showlegend": false,
         "type": "box",
         "x": [
          136091,
          124645,
          136999,
          133608,
          100274
         ],
         "x0": " ",
         "xaxis": "x3",
         "y": [
          "South Africa",
          "South Africa",
          "South Africa",
          "South Africa",
          "South Africa"
         ],
         "y0": " ",
         "yaxis": "y3"
        },
        {
         "alignmentgroup": "True",
         "hovertemplate": "Country=%{y}<br>5years=2011-2015<br>Emission=%{x}<extra></extra>",
         "legendgroup": "South Africa",
         "marker": {
          "color": "#EF553B"
         },
         "name": "South Africa",
         "notched": false,
         "offsetgroup": "South Africa",
         "orientation": "h",
         "showlegend": false,
         "type": "box",
         "x": [
          85869,
          90155,
          96493,
          101416,
          105673
         ],
         "x0": " ",
         "xaxis": "x4",
         "y": [
          "South Africa",
          "South Africa",
          "South Africa",
          "South Africa",
          "South Africa"
         ],
         "y0": " ",
         "yaxis": "y4"
        },
        {
         "alignmentgroup": "True",
         "hovertemplate": "Country=%{y}<br>5years=2016-2018<br>Emission=%{x}<extra></extra>",
         "legendgroup": "South Africa",
         "marker": {
          "color": "#EF553B"
         },
         "name": "South Africa",
         "notched": false,
         "offsetgroup": "South Africa",
         "orientation": "h",
         "showlegend": false,
         "type": "box",
         "x": [
          113243,
          95438,
          96192
         ],
         "x0": " ",
         "xaxis": "x5",
         "y": [
          "South Africa",
          "South Africa",
          "South Africa"
         ],
         "y0": " ",
         "yaxis": "y5"
        },
        {
         "alignmentgroup": "True",
         "hovertemplate": "Country=%{y}<br>5years=1995-2000<br>Emission=%{x}<extra></extra>",
         "legendgroup": "Russian Federation",
         "marker": {
          "color": "#00cc96"
         },
         "name": "Russian Federation",
         "notched": false,
         "offsetgroup": "Russian Federation",
         "orientation": "h",
         "showlegend": true,
         "type": "box",
         "x": [
          278373,
          233256,
          211615,
          303847,
          399547,
          316686
         ],
         "x0": " ",
         "xaxis": "x",
         "y": [
          "Russian Federation",
          "Russian Federation",
          "Russian Federation",
          "Russian Federation",
          "Russian Federation",
          "Russian Federation"
         ],
         "y0": " ",
         "yaxis": "y"
        },
        {
         "alignmentgroup": "True",
         "hovertemplate": "Country=%{y}<br>5years=2001-2005<br>Emission=%{x}<extra></extra>",
         "legendgroup": "Russian Federation",
         "marker": {
          "color": "#00cc96"
         },
         "name": "Russian Federation",
         "notched": false,
         "offsetgroup": "Russian Federation",
         "orientation": "h",
         "showlegend": false,
         "type": "box",
         "x": [
          277536,
          248123,
          202930,
          149665,
          119756
         ],
         "x0": " ",
         "xaxis": "x2",
         "y": [
          "Russian Federation",
          "Russian Federation",
          "Russian Federation",
          "Russian Federation",
          "Russian Federation"
         ],
         "y0": " ",
         "yaxis": "y2"
        },
        {
         "alignmentgroup": "True",
         "hovertemplate": "Country=%{y}<br>5years=2006-2010<br>Emission=%{x}<extra></extra>",
         "legendgroup": "Russian Federation",
         "marker": {
          "color": "#00cc96"
         },
         "name": "Russian Federation",
         "notched": false,
         "offsetgroup": "Russian Federation",
         "orientation": "h",
         "showlegend": false,
         "type": "box",
         "x": [
          97609,
          75735,
          60606,
          76168,
          64905
         ],
         "x0": " ",
         "xaxis": "x3",
         "y": [
          "Russian Federation",
          "Russian Federation",
          "Russian Federation",
          "Russian Federation",
          "Russian Federation"
         ],
         "y0": " ",
         "yaxis": "y3"
        },
        {
         "alignmentgroup": "True",
         "hovertemplate": "Country=%{y}<br>5years=2011-2015<br>Emission=%{x}<extra></extra>",
         "legendgroup": "Russian Federation",
         "marker": {
          "color": "#00cc96"
         },
         "name": "Russian Federation",
         "notched": false,
         "offsetgroup": "Russian Federation",
         "orientation": "h",
         "showlegend": false,
         "type": "box",
         "x": [
          56341,
          53292,
          51244,
          56886,
          78066
         ],
         "x0": " ",
         "xaxis": "x4",
         "y": [
          "Russian Federation",
          "Russian Federation",
          "Russian Federation",
          "Russian Federation",
          "Russian Federation"
         ],
         "y0": " ",
         "yaxis": "y4"
        },
        {
         "alignmentgroup": "True",
         "hovertemplate": "Country=%{y}<br>5years=2016-2018<br>Emission=%{x}<extra></extra>",
         "legendgroup": "Russian Federation",
         "marker": {
          "color": "#00cc96"
         },
         "name": "Russian Federation",
         "notched": false,
         "offsetgroup": "Russian Federation",
         "orientation": "h",
         "showlegend": false,
         "type": "box",
         "x": [
          81244,
          66561,
          64014
         ],
         "x0": " ",
         "xaxis": "x5",
         "y": [
          "Russian Federation",
          "Russian Federation",
          "Russian Federation"
         ],
         "y0": " ",
         "yaxis": "y5"
        },
        {
         "alignmentgroup": "True",
         "hovertemplate": "Country=%{y}<br>5years=1995-2000<br>Emission=%{x}<extra></extra>",
         "legendgroup": "Saudi Arabia",
         "marker": {
          "color": "#ab63fa"
         },
         "name": "Saudi Arabia",
         "notched": false,
         "offsetgroup": "Saudi Arabia",
         "orientation": "h",
         "showlegend": true,
         "type": "box",
         "x": [
          196641,
          193740,
          182157,
          213698,
          212012,
          193197
         ],
         "x0": " ",
         "xaxis": "x",
         "y": [
          "Saudi Arabia",
          "Saudi Arabia",
          "Saudi Arabia",
          "Saudi Arabia",
          "Saudi Arabia",
          "Saudi Arabia"
         ],
         "y0": " ",
         "yaxis": "y"
        },
        {
         "alignmentgroup": "True",
         "hovertemplate": "Country=%{y}<br>5years=2001-2005<br>Emission=%{x}<extra></extra>",
         "legendgroup": "Saudi Arabia",
         "marker": {
          "color": "#ab63fa"
         },
         "name": "Saudi Arabia",
         "notched": false,
         "offsetgroup": "Saudi Arabia",
         "orientation": "h",
         "showlegend": false,
         "type": "box",
         "x": [
          194897,
          204415,
          190106,
          151450,
          140010
         ],
         "x0": " ",
         "xaxis": "x2",
         "y": [
          "Saudi Arabia",
          "Saudi Arabia",
          "Saudi Arabia",
          "Saudi Arabia",
          "Saudi Arabia"
         ],
         "y0": " ",
         "yaxis": "y2"
        },
        {
         "alignmentgroup": "True",
         "hovertemplate": "Country=%{y}<br>5years=2006-2010<br>Emission=%{x}<extra></extra>",
         "legendgroup": "Saudi Arabia",
         "marker": {
          "color": "#ab63fa"
         },
         "name": "Saudi Arabia",
         "notched": false,
         "offsetgroup": "Saudi Arabia",
         "orientation": "h",
         "showlegend": false,
         "type": "box",
         "x": [
          132955,
          130367,
          128265,
          138768,
          132982
         ],
         "x0": " ",
         "xaxis": "x3",
         "y": [
          "Saudi Arabia",
          "Saudi Arabia",
          "Saudi Arabia",
          "Saudi Arabia",
          "Saudi Arabia"
         ],
         "y0": " ",
         "yaxis": "y3"
        },
        {
         "alignmentgroup": "True",
         "hovertemplate": "Country=%{y}<br>5years=2011-2015<br>Emission=%{x}<extra></extra>",
         "legendgroup": "Saudi Arabia",
         "marker": {
          "color": "#ab63fa"
         },
         "name": "Saudi Arabia",
         "notched": false,
         "offsetgroup": "Saudi Arabia",
         "orientation": "h",
         "showlegend": false,
         "type": "box",
         "x": [
          119210,
          112223,
          97564,
          105462,
          111785
         ],
         "x0": " ",
         "xaxis": "x4",
         "y": [
          "Saudi Arabia",
          "Saudi Arabia",
          "Saudi Arabia",
          "Saudi Arabia",
          "Saudi Arabia"
         ],
         "y0": " ",
         "yaxis": "y4"
        },
        {
         "alignmentgroup": "True",
         "hovertemplate": "Country=%{y}<br>5years=2016-2018<br>Emission=%{x}<extra></extra>",
         "legendgroup": "Saudi Arabia",
         "marker": {
          "color": "#ab63fa"
         },
         "name": "Saudi Arabia",
         "notched": false,
         "offsetgroup": "Saudi Arabia",
         "orientation": "h",
         "showlegend": false,
         "type": "box",
         "x": [
          106991,
          98917,
          86427
         ],
         "x0": " ",
         "xaxis": "x5",
         "y": [
          "Saudi Arabia",
          "Saudi Arabia",
          "Saudi Arabia"
         ],
         "y0": " ",
         "yaxis": "y5"
        },
        {
         "alignmentgroup": "True",
         "hovertemplate": "Country=%{y}<br>5years=1995-2000<br>Emission=%{x}<extra></extra>",
         "legendgroup": "China, P.R.: Mainland",
         "marker": {
          "color": "#FFA15A"
         },
         "name": "China, P.R.: Mainland",
         "notched": false,
         "offsetgroup": "China, P.R.: Mainland",
         "orientation": "h",
         "showlegend": true,
         "type": "box",
         "x": [
          224140,
          206817,
          182622,
          181806,
          166103,
          157773
         ],
         "x0": " ",
         "xaxis": "x",
         "y": [
          "China, P.R.: Mainland",
          "China, P.R.: Mainland",
          "China, P.R.: Mainland",
          "China, P.R.: Mainland",
          "China, P.R.: Mainland",
          "China, P.R.: Mainland"
         ],
         "y0": " ",
         "yaxis": "y"
        },
        {
         "alignmentgroup": "True",
         "hovertemplate": "Country=%{y}<br>5years=2001-2005<br>Emission=%{x}<extra></extra>",
         "legendgroup": "China, P.R.: Mainland",
         "marker": {
          "color": "#FFA15A"
         },
         "name": "China, P.R.: Mainland",
         "notched": false,
         "offsetgroup": "China, P.R.: Mainland",
         "orientation": "h",
         "showlegend": false,
         "type": "box",
         "x": [
          157753,
          154860,
          148666,
          144187,
          138898
         ],
         "x0": " ",
         "xaxis": "x2",
         "y": [
          "China, P.R.: Mainland",
          "China, P.R.: Mainland",
          "China, P.R.: Mainland",
          "China, P.R.: Mainland",
          "China, P.R.: Mainland"
         ],
         "y0": " ",
         "yaxis": "y2"
        },
        {
         "alignmentgroup": "True",
         "hovertemplate": "Country=%{y}<br>5years=2006-2010<br>Emission=%{x}<extra></extra>",
         "legendgroup": "China, P.R.: Mainland",
         "marker": {
          "color": "#FFA15A"
         },
         "name": "China, P.R.: Mainland",
         "notched": false,
         "offsetgroup": "China, P.R.: Mainland",
         "orientation": "h",
         "showlegend": false,
         "type": "box",
         "x": [
          126623,
          107996,
          85673,
          89099,
          82299
         ],
         "x0": " ",
         "xaxis": "x3",
         "y": [
          "China, P.R.: Mainland",
          "China, P.R.: Mainland",
          "China, P.R.: Mainland",
          "China, P.R.: Mainland",
          "China, P.R.: Mainland"
         ],
         "y0": " ",
         "yaxis": "y3"
        },
        {
         "alignmentgroup": "True",
         "hovertemplate": "Country=%{y}<br>5years=2011-2015<br>Emission=%{x}<extra></extra>",
         "legendgroup": "China, P.R.: Mainland",
         "marker": {
          "color": "#FFA15A"
         },
         "name": "China, P.R.: Mainland",
         "notched": false,
         "offsetgroup": "China, P.R.: Mainland",
         "orientation": "h",
         "showlegend": false,
         "type": "box",
         "x": [
          73591,
          68422,
          64992,
          60169,
          59126
         ],
         "x0": " ",
         "xaxis": "x4",
         "y": [
          "China, P.R.: Mainland",
          "China, P.R.: Mainland",
          "China, P.R.: Mainland",
          "China, P.R.: Mainland",
          "China, P.R.: Mainland"
         ],
         "y0": " ",
         "yaxis": "y4"
        },
        {
         "alignmentgroup": "True",
         "hovertemplate": "Country=%{y}<br>5years=2016-2018<br>Emission=%{x}<extra></extra>",
         "legendgroup": "China, P.R.: Mainland",
         "marker": {
          "color": "#FFA15A"
         },
         "name": "China, P.R.: Mainland",
         "notched": false,
         "offsetgroup": "China, P.R.: Mainland",
         "orientation": "h",
         "showlegend": false,
         "type": "box",
         "x": [
          62086,
          60427,
          55831
         ],
         "x0": " ",
         "xaxis": "x5",
         "y": [
          "China, P.R.: Mainland",
          "China, P.R.: Mainland",
          "China, P.R.: Mainland"
         ],
         "y0": " ",
         "yaxis": "y5"
        }
       ],
       "layout": {
        "annotations": [
         {
          "font": {},
          "showarrow": false,
          "text": "5years=1995-2000",
          "x": 0.09200000000000001,
          "xanchor": "center",
          "xref": "paper",
          "y": 1,
          "yanchor": "bottom",
          "yref": "paper"
         },
         {
          "font": {},
          "showarrow": false,
          "text": "5years=2001-2005",
          "x": 0.29600000000000004,
          "xanchor": "center",
          "xref": "paper",
          "y": 1,
          "yanchor": "bottom",
          "yref": "paper"
         },
         {
          "font": {},
          "showarrow": false,
          "text": "5years=2006-2010",
          "x": 0.5,
          "xanchor": "center",
          "xref": "paper",
          "y": 1,
          "yanchor": "bottom",
          "yref": "paper"
         },
         {
          "font": {},
          "showarrow": false,
          "text": "5years=2011-2015",
          "x": 0.7040000000000002,
          "xanchor": "center",
          "xref": "paper",
          "y": 1,
          "yanchor": "bottom",
          "yref": "paper"
         },
         {
          "font": {},
          "showarrow": false,
          "text": "5years=2016-2018",
          "x": 0.908,
          "xanchor": "center",
          "xref": "paper",
          "y": 1,
          "yanchor": "bottom",
          "yref": "paper"
         }
        ],
        "boxmode": "overlay",
        "legend": {
         "title": {
          "text": "Country"
         },
         "tracegroupgap": 0
        },
        "template": {
         "data": {
          "bar": [
           {
            "error_x": {
             "color": "#2a3f5f"
            },
            "error_y": {
             "color": "#2a3f5f"
            },
            "marker": {
             "line": {
              "color": "#E5ECF6",
              "width": 0.5
             },
             "pattern": {
              "fillmode": "overlay",
              "size": 10,
              "solidity": 0.2
             }
            },
            "type": "bar"
           }
          ],
          "barpolar": [
           {
            "marker": {
             "line": {
              "color": "#E5ECF6",
              "width": 0.5
             },
             "pattern": {
              "fillmode": "overlay",
              "size": 10,
              "solidity": 0.2
             }
            },
            "type": "barpolar"
           }
          ],
          "carpet": [
           {
            "aaxis": {
             "endlinecolor": "#2a3f5f",
             "gridcolor": "white",
             "linecolor": "white",
             "minorgridcolor": "white",
             "startlinecolor": "#2a3f5f"
            },
            "baxis": {
             "endlinecolor": "#2a3f5f",
             "gridcolor": "white",
             "linecolor": "white",
             "minorgridcolor": "white",
             "startlinecolor": "#2a3f5f"
            },
            "type": "carpet"
           }
          ],
          "choropleth": [
           {
            "colorbar": {
             "outlinewidth": 0,
             "ticks": ""
            },
            "type": "choropleth"
           }
          ],
          "contour": [
           {
            "colorbar": {
             "outlinewidth": 0,
             "ticks": ""
            },
            "colorscale": [
             [
              0,
              "#0d0887"
             ],
             [
              0.1111111111111111,
              "#46039f"
             ],
             [
              0.2222222222222222,
              "#7201a8"
             ],
             [
              0.3333333333333333,
              "#9c179e"
             ],
             [
              0.4444444444444444,
              "#bd3786"
             ],
             [
              0.5555555555555556,
              "#d8576b"
             ],
             [
              0.6666666666666666,
              "#ed7953"
             ],
             [
              0.7777777777777778,
              "#fb9f3a"
             ],
             [
              0.8888888888888888,
              "#fdca26"
             ],
             [
              1,
              "#f0f921"
             ]
            ],
            "type": "contour"
           }
          ],
          "contourcarpet": [
           {
            "colorbar": {
             "outlinewidth": 0,
             "ticks": ""
            },
            "type": "contourcarpet"
           }
          ],
          "heatmap": [
           {
            "colorbar": {
             "outlinewidth": 0,
             "ticks": ""
            },
            "colorscale": [
             [
              0,
              "#0d0887"
             ],
             [
              0.1111111111111111,
              "#46039f"
             ],
             [
              0.2222222222222222,
              "#7201a8"
             ],
             [
              0.3333333333333333,
              "#9c179e"
             ],
             [
              0.4444444444444444,
              "#bd3786"
             ],
             [
              0.5555555555555556,
              "#d8576b"
             ],
             [
              0.6666666666666666,
              "#ed7953"
             ],
             [
              0.7777777777777778,
              "#fb9f3a"
             ],
             [
              0.8888888888888888,
              "#fdca26"
             ],
             [
              1,
              "#f0f921"
             ]
            ],
            "type": "heatmap"
           }
          ],
          "heatmapgl": [
           {
            "colorbar": {
             "outlinewidth": 0,
             "ticks": ""
            },
            "colorscale": [
             [
              0,
              "#0d0887"
             ],
             [
              0.1111111111111111,
              "#46039f"
             ],
             [
              0.2222222222222222,
              "#7201a8"
             ],
             [
              0.3333333333333333,
              "#9c179e"
             ],
             [
              0.4444444444444444,
              "#bd3786"
             ],
             [
              0.5555555555555556,
              "#d8576b"
             ],
             [
              0.6666666666666666,
              "#ed7953"
             ],
             [
              0.7777777777777778,
              "#fb9f3a"
             ],
             [
              0.8888888888888888,
              "#fdca26"
             ],
             [
              1,
              "#f0f921"
             ]
            ],
            "type": "heatmapgl"
           }
          ],
          "histogram": [
           {
            "marker": {
             "pattern": {
              "fillmode": "overlay",
              "size": 10,
              "solidity": 0.2
             }
            },
            "type": "histogram"
           }
          ],
          "histogram2d": [
           {
            "colorbar": {
             "outlinewidth": 0,
             "ticks": ""
            },
            "colorscale": [
             [
              0,
              "#0d0887"
             ],
             [
              0.1111111111111111,
              "#46039f"
             ],
             [
              0.2222222222222222,
              "#7201a8"
             ],
             [
              0.3333333333333333,
              "#9c179e"
             ],
             [
              0.4444444444444444,
              "#bd3786"
             ],
             [
              0.5555555555555556,
              "#d8576b"
             ],
             [
              0.6666666666666666,
              "#ed7953"
             ],
             [
              0.7777777777777778,
              "#fb9f3a"
             ],
             [
              0.8888888888888888,
              "#fdca26"
             ],
             [
              1,
              "#f0f921"
             ]
            ],
            "type": "histogram2d"
           }
          ],
          "histogram2dcontour": [
           {
            "colorbar": {
             "outlinewidth": 0,
             "ticks": ""
            },
            "colorscale": [
             [
              0,
              "#0d0887"
             ],
             [
              0.1111111111111111,
              "#46039f"
             ],
             [
              0.2222222222222222,
              "#7201a8"
             ],
             [
              0.3333333333333333,
              "#9c179e"
             ],
             [
              0.4444444444444444,
              "#bd3786"
             ],
             [
              0.5555555555555556,
              "#d8576b"
             ],
             [
              0.6666666666666666,
              "#ed7953"
             ],
             [
              0.7777777777777778,
              "#fb9f3a"
             ],
             [
              0.8888888888888888,
              "#fdca26"
             ],
             [
              1,
              "#f0f921"
             ]
            ],
            "type": "histogram2dcontour"
           }
          ],
          "mesh3d": [
           {
            "colorbar": {
             "outlinewidth": 0,
             "ticks": ""
            },
            "type": "mesh3d"
           }
          ],
          "parcoords": [
           {
            "line": {
             "colorbar": {
              "outlinewidth": 0,
              "ticks": ""
             }
            },
            "type": "parcoords"
           }
          ],
          "pie": [
           {
            "automargin": true,
            "type": "pie"
           }
          ],
          "scatter": [
           {
            "fillpattern": {
             "fillmode": "overlay",
             "size": 10,
             "solidity": 0.2
            },
            "type": "scatter"
           }
          ],
          "scatter3d": [
           {
            "line": {
             "colorbar": {
              "outlinewidth": 0,
              "ticks": ""
             }
            },
            "marker": {
             "colorbar": {
              "outlinewidth": 0,
              "ticks": ""
             }
            },
            "type": "scatter3d"
           }
          ],
          "scattercarpet": [
           {
            "marker": {
             "colorbar": {
              "outlinewidth": 0,
              "ticks": ""
             }
            },
            "type": "scattercarpet"
           }
          ],
          "scattergeo": [
           {
            "marker": {
             "colorbar": {
              "outlinewidth": 0,
              "ticks": ""
             }
            },
            "type": "scattergeo"
           }
          ],
          "scattergl": [
           {
            "marker": {
             "colorbar": {
              "outlinewidth": 0,
              "ticks": ""
             }
            },
            "type": "scattergl"
           }
          ],
          "scattermapbox": [
           {
            "marker": {
             "colorbar": {
              "outlinewidth": 0,
              "ticks": ""
             }
            },
            "type": "scattermapbox"
           }
          ],
          "scatterpolar": [
           {
            "marker": {
             "colorbar": {
              "outlinewidth": 0,
              "ticks": ""
             }
            },
            "type": "scatterpolar"
           }
          ],
          "scatterpolargl": [
           {
            "marker": {
             "colorbar": {
              "outlinewidth": 0,
              "ticks": ""
             }
            },
            "type": "scatterpolargl"
           }
          ],
          "scatterternary": [
           {
            "marker": {
             "colorbar": {
              "outlinewidth": 0,
              "ticks": ""
             }
            },
            "type": "scatterternary"
           }
          ],
          "surface": [
           {
            "colorbar": {
             "outlinewidth": 0,
             "ticks": ""
            },
            "colorscale": [
             [
              0,
              "#0d0887"
             ],
             [
              0.1111111111111111,
              "#46039f"
             ],
             [
              0.2222222222222222,
              "#7201a8"
             ],
             [
              0.3333333333333333,
              "#9c179e"
             ],
             [
              0.4444444444444444,
              "#bd3786"
             ],
             [
              0.5555555555555556,
              "#d8576b"
             ],
             [
              0.6666666666666666,
              "#ed7953"
             ],
             [
              0.7777777777777778,
              "#fb9f3a"
             ],
             [
              0.8888888888888888,
              "#fdca26"
             ],
             [
              1,
              "#f0f921"
             ]
            ],
            "type": "surface"
           }
          ],
          "table": [
           {
            "cells": {
             "fill": {
              "color": "#EBF0F8"
             },
             "line": {
              "color": "white"
             }
            },
            "header": {
             "fill": {
              "color": "#C8D4E3"
             },
             "line": {
              "color": "white"
             }
            },
            "type": "table"
           }
          ]
         },
         "layout": {
          "annotationdefaults": {
           "arrowcolor": "#2a3f5f",
           "arrowhead": 0,
           "arrowwidth": 1
          },
          "autotypenumbers": "strict",
          "coloraxis": {
           "colorbar": {
            "outlinewidth": 0,
            "ticks": ""
           }
          },
          "colorscale": {
           "diverging": [
            [
             0,
             "#8e0152"
            ],
            [
             0.1,
             "#c51b7d"
            ],
            [
             0.2,
             "#de77ae"
            ],
            [
             0.3,
             "#f1b6da"
            ],
            [
             0.4,
             "#fde0ef"
            ],
            [
             0.5,
             "#f7f7f7"
            ],
            [
             0.6,
             "#e6f5d0"
            ],
            [
             0.7,
             "#b8e186"
            ],
            [
             0.8,
             "#7fbc41"
            ],
            [
             0.9,
             "#4d9221"
            ],
            [
             1,
             "#276419"
            ]
           ],
           "sequential": [
            [
             0,
             "#0d0887"
            ],
            [
             0.1111111111111111,
             "#46039f"
            ],
            [
             0.2222222222222222,
             "#7201a8"
            ],
            [
             0.3333333333333333,
             "#9c179e"
            ],
            [
             0.4444444444444444,
             "#bd3786"
            ],
            [
             0.5555555555555556,
             "#d8576b"
            ],
            [
             0.6666666666666666,
             "#ed7953"
            ],
            [
             0.7777777777777778,
             "#fb9f3a"
            ],
            [
             0.8888888888888888,
             "#fdca26"
            ],
            [
             1,
             "#f0f921"
            ]
           ],
           "sequentialminus": [
            [
             0,
             "#0d0887"
            ],
            [
             0.1111111111111111,
             "#46039f"
            ],
            [
             0.2222222222222222,
             "#7201a8"
            ],
            [
             0.3333333333333333,
             "#9c179e"
            ],
            [
             0.4444444444444444,
             "#bd3786"
            ],
            [
             0.5555555555555556,
             "#d8576b"
            ],
            [
             0.6666666666666666,
             "#ed7953"
            ],
            [
             0.7777777777777778,
             "#fb9f3a"
            ],
            [
             0.8888888888888888,
             "#fdca26"
            ],
            [
             1,
             "#f0f921"
            ]
           ]
          },
          "colorway": [
           "#636efa",
           "#EF553B",
           "#00cc96",
           "#ab63fa",
           "#FFA15A",
           "#19d3f3",
           "#FF6692",
           "#B6E880",
           "#FF97FF",
           "#FECB52"
          ],
          "font": {
           "color": "#2a3f5f"
          },
          "geo": {
           "bgcolor": "white",
           "lakecolor": "white",
           "landcolor": "#E5ECF6",
           "showlakes": true,
           "showland": true,
           "subunitcolor": "white"
          },
          "hoverlabel": {
           "align": "left"
          },
          "hovermode": "closest",
          "mapbox": {
           "style": "light"
          },
          "paper_bgcolor": "white",
          "plot_bgcolor": "#E5ECF6",
          "polar": {
           "angularaxis": {
            "gridcolor": "white",
            "linecolor": "white",
            "ticks": ""
           },
           "bgcolor": "#E5ECF6",
           "radialaxis": {
            "gridcolor": "white",
            "linecolor": "white",
            "ticks": ""
           }
          },
          "scene": {
           "xaxis": {
            "backgroundcolor": "#E5ECF6",
            "gridcolor": "white",
            "gridwidth": 2,
            "linecolor": "white",
            "showbackground": true,
            "ticks": "",
            "zerolinecolor": "white"
           },
           "yaxis": {
            "backgroundcolor": "#E5ECF6",
            "gridcolor": "white",
            "gridwidth": 2,
            "linecolor": "white",
            "showbackground": true,
            "ticks": "",
            "zerolinecolor": "white"
           },
           "zaxis": {
            "backgroundcolor": "#E5ECF6",
            "gridcolor": "white",
            "gridwidth": 2,
            "linecolor": "white",
            "showbackground": true,
            "ticks": "",
            "zerolinecolor": "white"
           }
          },
          "shapedefaults": {
           "line": {
            "color": "#2a3f5f"
           }
          },
          "ternary": {
           "aaxis": {
            "gridcolor": "white",
            "linecolor": "white",
            "ticks": ""
           },
           "baxis": {
            "gridcolor": "white",
            "linecolor": "white",
            "ticks": ""
           },
           "bgcolor": "#E5ECF6",
           "caxis": {
            "gridcolor": "white",
            "linecolor": "white",
            "ticks": ""
           }
          },
          "title": {
           "x": 0.05
          },
          "xaxis": {
           "automargin": true,
           "gridcolor": "white",
           "linecolor": "white",
           "ticks": "",
           "title": {
            "standoff": 15
           },
           "zerolinecolor": "white",
           "zerolinewidth": 2
          },
          "yaxis": {
           "automargin": true,
           "gridcolor": "white",
           "linecolor": "white",
           "ticks": "",
           "title": {
            "standoff": 15
           },
           "zerolinecolor": "white",
           "zerolinewidth": 2
          }
         }
        },
        "title": {
         "text": "Variation of Carbon Emission for 5years"
        },
        "xaxis": {
         "anchor": "y",
         "domain": [
          0,
          0.18400000000000002
         ],
         "title": {
          "text": "Emission"
         }
        },
        "xaxis2": {
         "anchor": "y2",
         "domain": [
          0.20400000000000001,
          0.388
         ],
         "matches": "x",
         "title": {
          "text": "Emission"
         }
        },
        "xaxis3": {
         "anchor": "y3",
         "domain": [
          0.40800000000000003,
          0.5920000000000001
         ],
         "matches": "x",
         "title": {
          "text": "Emission"
         }
        },
        "xaxis4": {
         "anchor": "y4",
         "domain": [
          0.6120000000000001,
          0.7960000000000002
         ],
         "matches": "x",
         "title": {
          "text": "Emission"
         }
        },
        "xaxis5": {
         "anchor": "y5",
         "domain": [
          0.8160000000000001,
          1
         ],
         "matches": "x",
         "title": {
          "text": "Emission"
         }
        },
        "yaxis": {
         "anchor": "x",
         "categoryarray": [
          "China, P.R.: Mainland",
          "Saudi Arabia",
          "Russian Federation",
          "South Africa",
          "Kazakhstan, Rep. of"
         ],
         "categoryorder": "array",
         "domain": [
          0,
          1
         ],
         "title": {
          "text": "Country"
         }
        },
        "yaxis2": {
         "anchor": "x2",
         "domain": [
          0,
          1
         ],
         "matches": "y",
         "showticklabels": false
        },
        "yaxis3": {
         "anchor": "x3",
         "domain": [
          0,
          1
         ],
         "matches": "y",
         "showticklabels": false
        },
        "yaxis4": {
         "anchor": "x4",
         "domain": [
          0,
          1
         ],
         "matches": "y",
         "showticklabels": false
        },
        "yaxis5": {
         "anchor": "x5",
         "domain": [
          0,
          1
         ],
         "matches": "y",
         "showticklabels": false
        }
       }
      }
     },
     "metadata": {},
     "output_type": "display_data"
    }
   ],
   "source": [
    "px.box(data_frame=dfm2, x='Emission', y='Country', color='Country', title='Variation of Carbon Emission for 5years',facet_col='5years')"
   ]
  },
  {
   "cell_type": "code",
   "execution_count": 22,
   "id": "63851072",
   "metadata": {},
   "outputs": [],
   "source": [
    "df3=df.groupby(['Country','ISO2']).sum().reset_index(drop=False)\n",
    "df3.head(30)\n",
    "df3=pd.merge(df3, df1, on='Country')\n",
    "\n",
    "f = lambda x: pc.country_alpha2_to_continent_code(x)\n",
    "df3['Continent'] = df3['ISO2'].apply(f)\n",
    "\n",
    "\n",
    "name = {\n",
    "    'NA': 'North America',\n",
    "    'SA': 'South America', \n",
    "    'AS': 'Asia',\n",
    "    'OC': 'Australia',\n",
    "    'AF': 'Africa',\n",
    "    'EU': 'Europe'}\n",
    "df3['Continent'] = df3['Continent'].map(name)"
   ]
  },
  {
   "cell_type": "code",
   "execution_count": 23,
   "id": "c412e5d7",
   "metadata": {},
   "outputs": [
    {
     "data": {
      "text/html": [
       "<div>\n",
       "<style scoped>\n",
       "    .dataframe tbody tr th:only-of-type {\n",
       "        vertical-align: middle;\n",
       "    }\n",
       "\n",
       "    .dataframe tbody tr th {\n",
       "        vertical-align: top;\n",
       "    }\n",
       "\n",
       "    .dataframe thead th {\n",
       "        text-align: right;\n",
       "    }\n",
       "</style>\n",
       "<table border=\"1\" class=\"dataframe\">\n",
       "  <thead>\n",
       "    <tr style=\"text-align: right;\">\n",
       "      <th></th>\n",
       "      <th>Country</th>\n",
       "      <th>1995</th>\n",
       "      <th>1996</th>\n",
       "      <th>1997</th>\n",
       "      <th>1998</th>\n",
       "      <th>1999</th>\n",
       "      <th>2000</th>\n",
       "      <th>2001</th>\n",
       "      <th>2002</th>\n",
       "      <th>2003</th>\n",
       "      <th>...</th>\n",
       "      <th>2009</th>\n",
       "      <th>2010</th>\n",
       "      <th>2011</th>\n",
       "      <th>2012</th>\n",
       "      <th>2013</th>\n",
       "      <th>2014</th>\n",
       "      <th>2015</th>\n",
       "      <th>2016</th>\n",
       "      <th>2017</th>\n",
       "      <th>2018</th>\n",
       "    </tr>\n",
       "  </thead>\n",
       "  <tbody>\n",
       "    <tr>\n",
       "      <th>31</th>\n",
       "      <td>Kazakhstan, Rep. of</td>\n",
       "      <td>1022501.0</td>\n",
       "      <td>915997.0</td>\n",
       "      <td>696541.0</td>\n",
       "      <td>698809.0</td>\n",
       "      <td>683015.0</td>\n",
       "      <td>501442.0</td>\n",
       "      <td>480284.0</td>\n",
       "      <td>404794.0</td>\n",
       "      <td>400444.0</td>\n",
       "      <td>...</td>\n",
       "      <td>158452.0</td>\n",
       "      <td>142629.0</td>\n",
       "      <td>135027.0</td>\n",
       "      <td>111633.0</td>\n",
       "      <td>131435.0</td>\n",
       "      <td>92554.0</td>\n",
       "      <td>75563.0</td>\n",
       "      <td>100386.0</td>\n",
       "      <td>98068.0</td>\n",
       "      <td>84520.0</td>\n",
       "    </tr>\n",
       "    <tr>\n",
       "      <th>55</th>\n",
       "      <td>South Africa</td>\n",
       "      <td>189092.0</td>\n",
       "      <td>206024.0</td>\n",
       "      <td>202550.0</td>\n",
       "      <td>236064.0</td>\n",
       "      <td>230360.0</td>\n",
       "      <td>221289.0</td>\n",
       "      <td>257119.0</td>\n",
       "      <td>271510.0</td>\n",
       "      <td>200306.0</td>\n",
       "      <td>...</td>\n",
       "      <td>133608.0</td>\n",
       "      <td>100274.0</td>\n",
       "      <td>85869.0</td>\n",
       "      <td>90155.0</td>\n",
       "      <td>96493.0</td>\n",
       "      <td>101416.0</td>\n",
       "      <td>105673.0</td>\n",
       "      <td>113243.0</td>\n",
       "      <td>95438.0</td>\n",
       "      <td>96192.0</td>\n",
       "    </tr>\n",
       "    <tr>\n",
       "      <th>50</th>\n",
       "      <td>Russian Federation</td>\n",
       "      <td>278373.0</td>\n",
       "      <td>233256.0</td>\n",
       "      <td>211615.0</td>\n",
       "      <td>303847.0</td>\n",
       "      <td>399547.0</td>\n",
       "      <td>316686.0</td>\n",
       "      <td>277536.0</td>\n",
       "      <td>248123.0</td>\n",
       "      <td>202930.0</td>\n",
       "      <td>...</td>\n",
       "      <td>76168.0</td>\n",
       "      <td>64905.0</td>\n",
       "      <td>56341.0</td>\n",
       "      <td>53292.0</td>\n",
       "      <td>51244.0</td>\n",
       "      <td>56886.0</td>\n",
       "      <td>78066.0</td>\n",
       "      <td>81244.0</td>\n",
       "      <td>66561.0</td>\n",
       "      <td>64014.0</td>\n",
       "    </tr>\n",
       "    <tr>\n",
       "      <th>51</th>\n",
       "      <td>Saudi Arabia</td>\n",
       "      <td>196641.0</td>\n",
       "      <td>193740.0</td>\n",
       "      <td>182157.0</td>\n",
       "      <td>213698.0</td>\n",
       "      <td>212012.0</td>\n",
       "      <td>193197.0</td>\n",
       "      <td>194897.0</td>\n",
       "      <td>204415.0</td>\n",
       "      <td>190106.0</td>\n",
       "      <td>...</td>\n",
       "      <td>138768.0</td>\n",
       "      <td>132982.0</td>\n",
       "      <td>119210.0</td>\n",
       "      <td>112223.0</td>\n",
       "      <td>97564.0</td>\n",
       "      <td>105462.0</td>\n",
       "      <td>111785.0</td>\n",
       "      <td>106991.0</td>\n",
       "      <td>98917.0</td>\n",
       "      <td>86427.0</td>\n",
       "    </tr>\n",
       "    <tr>\n",
       "      <th>11</th>\n",
       "      <td>China, P.R.: Mainland</td>\n",
       "      <td>224140.0</td>\n",
       "      <td>206817.0</td>\n",
       "      <td>182622.0</td>\n",
       "      <td>181806.0</td>\n",
       "      <td>166103.0</td>\n",
       "      <td>157773.0</td>\n",
       "      <td>157753.0</td>\n",
       "      <td>154860.0</td>\n",
       "      <td>148666.0</td>\n",
       "      <td>...</td>\n",
       "      <td>89099.0</td>\n",
       "      <td>82299.0</td>\n",
       "      <td>73591.0</td>\n",
       "      <td>68422.0</td>\n",
       "      <td>64992.0</td>\n",
       "      <td>60169.0</td>\n",
       "      <td>59126.0</td>\n",
       "      <td>62086.0</td>\n",
       "      <td>60427.0</td>\n",
       "      <td>55831.0</td>\n",
       "    </tr>\n",
       "  </tbody>\n",
       "</table>\n",
       "<p>5 rows × 25 columns</p>\n",
       "</div>"
      ],
      "text/plain": [
       "                  Country       1995      1996      1997      1998      1999  \\\n",
       "31    Kazakhstan, Rep. of  1022501.0  915997.0  696541.0  698809.0  683015.0   \n",
       "55           South Africa   189092.0  206024.0  202550.0  236064.0  230360.0   \n",
       "50     Russian Federation   278373.0  233256.0  211615.0  303847.0  399547.0   \n",
       "51           Saudi Arabia   196641.0  193740.0  182157.0  213698.0  212012.0   \n",
       "11  China, P.R.: Mainland   224140.0  206817.0  182622.0  181806.0  166103.0   \n",
       "\n",
       "        2000      2001      2002      2003  ...      2009      2010      2011  \\\n",
       "31  501442.0  480284.0  404794.0  400444.0  ...  158452.0  142629.0  135027.0   \n",
       "55  221289.0  257119.0  271510.0  200306.0  ...  133608.0  100274.0   85869.0   \n",
       "50  316686.0  277536.0  248123.0  202930.0  ...   76168.0   64905.0   56341.0   \n",
       "51  193197.0  194897.0  204415.0  190106.0  ...  138768.0  132982.0  119210.0   \n",
       "11  157773.0  157753.0  154860.0  148666.0  ...   89099.0   82299.0   73591.0   \n",
       "\n",
       "        2012      2013      2014      2015      2016     2017     2018  \n",
       "31  111633.0  131435.0   92554.0   75563.0  100386.0  98068.0  84520.0  \n",
       "55   90155.0   96493.0  101416.0  105673.0  113243.0  95438.0  96192.0  \n",
       "50   53292.0   51244.0   56886.0   78066.0   81244.0  66561.0  64014.0  \n",
       "51  112223.0   97564.0  105462.0  111785.0  106991.0  98917.0  86427.0  \n",
       "11   68422.0   64992.0   60169.0   59126.0   62086.0  60427.0  55831.0  \n",
       "\n",
       "[5 rows x 25 columns]"
      ]
     },
     "execution_count": 23,
     "metadata": {},
     "output_type": "execute_result"
    }
   ],
   "source": [
    "top5.head()"
   ]
  },
  {
   "cell_type": "code",
   "execution_count": 24,
   "id": "464fe049",
   "metadata": {
    "scrolled": true
   },
   "outputs": [
    {
     "data": {
      "text/html": [
       "<div>\n",
       "<style scoped>\n",
       "    .dataframe tbody tr th:only-of-type {\n",
       "        vertical-align: middle;\n",
       "    }\n",
       "\n",
       "    .dataframe tbody tr th {\n",
       "        vertical-align: top;\n",
       "    }\n",
       "\n",
       "    .dataframe thead th {\n",
       "        text-align: right;\n",
       "    }\n",
       "</style>\n",
       "<table border=\"1\" class=\"dataframe\">\n",
       "  <thead>\n",
       "    <tr style=\"text-align: right;\">\n",
       "      <th></th>\n",
       "      <th>Continent</th>\n",
       "      <th>Country</th>\n",
       "      <th>ISO2</th>\n",
       "      <th>Indicator</th>\n",
       "      <th>Unit</th>\n",
       "      <th>Source</th>\n",
       "      <th>CTS_Code</th>\n",
       "      <th>CTS_Name</th>\n",
       "      <th>CTS_Full_Descriptor</th>\n",
       "      <th>Industry</th>\n",
       "      <th>...</th>\n",
       "      <th>2010</th>\n",
       "      <th>2011</th>\n",
       "      <th>2012</th>\n",
       "      <th>2013</th>\n",
       "      <th>2014</th>\n",
       "      <th>2015</th>\n",
       "      <th>2016</th>\n",
       "      <th>2017</th>\n",
       "      <th>2018</th>\n",
       "      <th>Total</th>\n",
       "    </tr>\n",
       "  </thead>\n",
       "  <tbody>\n",
       "    <tr>\n",
       "      <th>0</th>\n",
       "      <td>Africa</td>\n",
       "      <td>MoroccoSouth AfricaTunisia</td>\n",
       "      <td>MAZATN</td>\n",
       "      <td>CO2 emissionsCO2 emissionsCO2 emissionsCO2 emi...</td>\n",
       "      <td>Millions of Metric tons of CO2Millions of Metr...</td>\n",
       "      <td>OECD (2021), OECD Inter-Country Input-Output D...</td>\n",
       "      <td>ECNCECNCECNCECNCECNCECNCECNCECNCECNCECNCECNCEC...</td>\n",
       "      <td>CO2 EmissionsCO2 EmissionsCO2 EmissionsCO2 Emi...</td>\n",
       "      <td>Environment, Climate Change, Economic Activity...</td>\n",
       "      <td>Accomodation and food servicesActivities of ho...</td>\n",
       "      <td>...</td>\n",
       "      <td>178318.0</td>\n",
       "      <td>161010.0</td>\n",
       "      <td>169269.0</td>\n",
       "      <td>169381.0</td>\n",
       "      <td>177460.0</td>\n",
       "      <td>186485.0</td>\n",
       "      <td>194149.0</td>\n",
       "      <td>177931.0</td>\n",
       "      <td>174773.0</td>\n",
       "      <td>6225241.0</td>\n",
       "    </tr>\n",
       "    <tr>\n",
       "      <th>1</th>\n",
       "      <td>Asia</td>\n",
       "      <td>Brunei DarussalamCambodiaChina, P.R.: Hong Kon...</td>\n",
       "      <td>BNKHHKCNCYINIDILJPKZKRLAMYMMPHSASGTWTHTRVN</td>\n",
       "      <td>CO2 emissionsCO2 emissionsCO2 emissionsCO2 emi...</td>\n",
       "      <td>Millions of Metric tons of CO2Millions of Metr...</td>\n",
       "      <td>OECD (2021), OECD Inter-Country Input-Output D...</td>\n",
       "      <td>ECNCECNCECNCECNCECNCECNCECNCECNCECNCECNCECNCEC...</td>\n",
       "      <td>CO2 EmissionsCO2 EmissionsCO2 EmissionsCO2 Emi...</td>\n",
       "      <td>Environment, Climate Change, Economic Activity...</td>\n",
       "      <td>Accomodation and food servicesActivities of ho...</td>\n",
       "      <td>...</td>\n",
       "      <td>1089972.0</td>\n",
       "      <td>983948.0</td>\n",
       "      <td>931577.0</td>\n",
       "      <td>923478.0</td>\n",
       "      <td>912934.0</td>\n",
       "      <td>975420.0</td>\n",
       "      <td>1023122.0</td>\n",
       "      <td>1006019.0</td>\n",
       "      <td>942321.0</td>\n",
       "      <td>38695960.0</td>\n",
       "    </tr>\n",
       "    <tr>\n",
       "      <th>2</th>\n",
       "      <td>Australia</td>\n",
       "      <td>AustraliaNew Zealand</td>\n",
       "      <td>AUNZ</td>\n",
       "      <td>CO2 emissionsCO2 emissionsCO2 emissionsCO2 emi...</td>\n",
       "      <td>Millions of Metric tons of CO2Millions of Metr...</td>\n",
       "      <td>OECD (2021), OECD Inter-Country Input-Output D...</td>\n",
       "      <td>ECNCECNCECNCECNCECNCECNCECNCECNCECNCECNCECNCEC...</td>\n",
       "      <td>CO2 EmissionsCO2 EmissionsCO2 EmissionsCO2 Emi...</td>\n",
       "      <td>Environment, Climate Change, Economic Activity...</td>\n",
       "      <td>Accomodation and food servicesActivities of ho...</td>\n",
       "      <td>...</td>\n",
       "      <td>49302.0</td>\n",
       "      <td>40069.0</td>\n",
       "      <td>38139.0</td>\n",
       "      <td>38368.0</td>\n",
       "      <td>38739.0</td>\n",
       "      <td>44772.0</td>\n",
       "      <td>45991.0</td>\n",
       "      <td>43428.0</td>\n",
       "      <td>41693.0</td>\n",
       "      <td>1732664.0</td>\n",
       "    </tr>\n",
       "    <tr>\n",
       "      <th>3</th>\n",
       "      <td>Europe</td>\n",
       "      <td>AustriaBelgiumBulgariaCroatia, Rep. ofCzech Re...</td>\n",
       "      <td>ATBEBGHRCZDKEEFIFRDEGRHUISIEITLVLTLUMTNLNOPLPT...</td>\n",
       "      <td>CO2 emissionsCO2 emissionsCO2 emissionsCO2 emi...</td>\n",
       "      <td>Millions of Metric tons of CO2Millions of Metr...</td>\n",
       "      <td>OECD (2021), OECD Inter-Country Input-Output D...</td>\n",
       "      <td>ECNCECNCECNCECNCECNCECNCECNCECNCECNCECNCECNCEC...</td>\n",
       "      <td>CO2 EmissionsCO2 EmissionsCO2 EmissionsCO2 Emi...</td>\n",
       "      <td>Environment, Climate Change, Economic Activity...</td>\n",
       "      <td>Accomodation and food servicesActivities of ho...</td>\n",
       "      <td>...</td>\n",
       "      <td>723167.0</td>\n",
       "      <td>627118.0</td>\n",
       "      <td>662786.0</td>\n",
       "      <td>616099.0</td>\n",
       "      <td>596857.0</td>\n",
       "      <td>833128.0</td>\n",
       "      <td>1172296.0</td>\n",
       "      <td>838266.0</td>\n",
       "      <td>632600.0</td>\n",
       "      <td>30591999.0</td>\n",
       "    </tr>\n",
       "    <tr>\n",
       "      <th>4</th>\n",
       "      <td>North America</td>\n",
       "      <td>CanadaCosta RicaMexicoUnited States</td>\n",
       "      <td>CACRMXUS</td>\n",
       "      <td>CO2 emissionsCO2 emissionsCO2 emissionsCO2 emi...</td>\n",
       "      <td>Millions of Metric tons of CO2Millions of Metr...</td>\n",
       "      <td>OECD (2021), OECD Inter-Country Input-Output D...</td>\n",
       "      <td>ECNCECNCECNCECNCECNCECNCECNCECNCECNCECNCECNCEC...</td>\n",
       "      <td>CO2 EmissionsCO2 EmissionsCO2 EmissionsCO2 Emi...</td>\n",
       "      <td>Environment, Climate Change, Economic Activity...</td>\n",
       "      <td>Accomodation and food servicesActivities of ho...</td>\n",
       "      <td>...</td>\n",
       "      <td>114735.0</td>\n",
       "      <td>107921.0</td>\n",
       "      <td>104697.0</td>\n",
       "      <td>103592.0</td>\n",
       "      <td>99202.0</td>\n",
       "      <td>109403.0</td>\n",
       "      <td>116494.0</td>\n",
       "      <td>105276.0</td>\n",
       "      <td>97102.0</td>\n",
       "      <td>3638611.0</td>\n",
       "    </tr>\n",
       "  </tbody>\n",
       "</table>\n",
       "<p>5 rows × 60 columns</p>\n",
       "</div>"
      ],
      "text/plain": [
       "       Continent                                            Country  \\\n",
       "0         Africa                         MoroccoSouth AfricaTunisia   \n",
       "1           Asia  Brunei DarussalamCambodiaChina, P.R.: Hong Kon...   \n",
       "2      Australia                               AustraliaNew Zealand   \n",
       "3         Europe  AustriaBelgiumBulgariaCroatia, Rep. ofCzech Re...   \n",
       "4  North America                CanadaCosta RicaMexicoUnited States   \n",
       "\n",
       "                                                ISO2  \\\n",
       "0                                             MAZATN   \n",
       "1         BNKHHKCNCYINIDILJPKZKRLAMYMMPHSASGTWTHTRVN   \n",
       "2                                               AUNZ   \n",
       "3  ATBEBGHRCZDKEEFIFRDEGRHUISIEITLVLTLUMTNLNOPLPT...   \n",
       "4                                           CACRMXUS   \n",
       "\n",
       "                                           Indicator  \\\n",
       "0  CO2 emissionsCO2 emissionsCO2 emissionsCO2 emi...   \n",
       "1  CO2 emissionsCO2 emissionsCO2 emissionsCO2 emi...   \n",
       "2  CO2 emissionsCO2 emissionsCO2 emissionsCO2 emi...   \n",
       "3  CO2 emissionsCO2 emissionsCO2 emissionsCO2 emi...   \n",
       "4  CO2 emissionsCO2 emissionsCO2 emissionsCO2 emi...   \n",
       "\n",
       "                                                Unit  \\\n",
       "0  Millions of Metric tons of CO2Millions of Metr...   \n",
       "1  Millions of Metric tons of CO2Millions of Metr...   \n",
       "2  Millions of Metric tons of CO2Millions of Metr...   \n",
       "3  Millions of Metric tons of CO2Millions of Metr...   \n",
       "4  Millions of Metric tons of CO2Millions of Metr...   \n",
       "\n",
       "                                              Source  \\\n",
       "0  OECD (2021), OECD Inter-Country Input-Output D...   \n",
       "1  OECD (2021), OECD Inter-Country Input-Output D...   \n",
       "2  OECD (2021), OECD Inter-Country Input-Output D...   \n",
       "3  OECD (2021), OECD Inter-Country Input-Output D...   \n",
       "4  OECD (2021), OECD Inter-Country Input-Output D...   \n",
       "\n",
       "                                            CTS_Code  \\\n",
       "0  ECNCECNCECNCECNCECNCECNCECNCECNCECNCECNCECNCEC...   \n",
       "1  ECNCECNCECNCECNCECNCECNCECNCECNCECNCECNCECNCEC...   \n",
       "2  ECNCECNCECNCECNCECNCECNCECNCECNCECNCECNCECNCEC...   \n",
       "3  ECNCECNCECNCECNCECNCECNCECNCECNCECNCECNCECNCEC...   \n",
       "4  ECNCECNCECNCECNCECNCECNCECNCECNCECNCECNCECNCEC...   \n",
       "\n",
       "                                            CTS_Name  \\\n",
       "0  CO2 EmissionsCO2 EmissionsCO2 EmissionsCO2 Emi...   \n",
       "1  CO2 EmissionsCO2 EmissionsCO2 EmissionsCO2 Emi...   \n",
       "2  CO2 EmissionsCO2 EmissionsCO2 EmissionsCO2 Emi...   \n",
       "3  CO2 EmissionsCO2 EmissionsCO2 EmissionsCO2 Emi...   \n",
       "4  CO2 EmissionsCO2 EmissionsCO2 EmissionsCO2 Emi...   \n",
       "\n",
       "                                 CTS_Full_Descriptor  \\\n",
       "0  Environment, Climate Change, Economic Activity...   \n",
       "1  Environment, Climate Change, Economic Activity...   \n",
       "2  Environment, Climate Change, Economic Activity...   \n",
       "3  Environment, Climate Change, Economic Activity...   \n",
       "4  Environment, Climate Change, Economic Activity...   \n",
       "\n",
       "                                            Industry  ...       2010  \\\n",
       "0  Accomodation and food servicesActivities of ho...  ...   178318.0   \n",
       "1  Accomodation and food servicesActivities of ho...  ...  1089972.0   \n",
       "2  Accomodation and food servicesActivities of ho...  ...    49302.0   \n",
       "3  Accomodation and food servicesActivities of ho...  ...   723167.0   \n",
       "4  Accomodation and food servicesActivities of ho...  ...   114735.0   \n",
       "\n",
       "       2011      2012      2013      2014      2015       2016       2017  \\\n",
       "0  161010.0  169269.0  169381.0  177460.0  186485.0   194149.0   177931.0   \n",
       "1  983948.0  931577.0  923478.0  912934.0  975420.0  1023122.0  1006019.0   \n",
       "2   40069.0   38139.0   38368.0   38739.0   44772.0    45991.0    43428.0   \n",
       "3  627118.0  662786.0  616099.0  596857.0  833128.0  1172296.0   838266.0   \n",
       "4  107921.0  104697.0  103592.0   99202.0  109403.0   116494.0   105276.0   \n",
       "\n",
       "       2018       Total  \n",
       "0  174773.0   6225241.0  \n",
       "1  942321.0  38695960.0  \n",
       "2   41693.0   1732664.0  \n",
       "3  632600.0  30591999.0  \n",
       "4   97102.0   3638611.0  \n",
       "\n",
       "[5 rows x 60 columns]"
      ]
     },
     "execution_count": 24,
     "metadata": {},
     "output_type": "execute_result"
    }
   ],
   "source": [
    "df4=df3.groupby(['Continent']).sum().reset_index(drop=False)\n",
    "df4.head()"
   ]
  },
  {
   "cell_type": "code",
   "execution_count": 25,
   "id": "78b4b7b4",
   "metadata": {},
   "outputs": [
    {
     "data": {
      "image/png": "[encoded data removed]",
      "text/plain": [
       "<Figure size 640x480 with 1 Axes>"
      ]
     },
     "metadata": {},
     "output_type": "display_data"
    }
   ],
   "source": [
    "sns.barplot(x = \"Continent\", y = \"Total\", data=df4 ,palette=\"bright\")\n",
    "\n",
    "plt.xlabel(\"Total Emission from 1995-2018 \")\n",
    "plt.ylabel(\"Continent\")\n",
    "plt.xticks(rotation=45)\n",
    "plt.ticklabel_format(style='plain', axis='y')\n",
    "\n"
   ]
  },
  {
   "cell_type": "markdown",
   "id": "90e229a6",
   "metadata": {},
   "source": [
    "•\tWe could see that the total carbon emission for the top 5 Countries decrease steadily from 1995-2018\n",
    "\n",
    "•\tThe highest Carbon Emission comes from Asia and Europe\n"
   ]
  }
 ],
 "metadata": {
  "kernelspec": {
   "display_name": "Python 3 (ipykernel)",
   "language": "python",
   "name": "python3"
  },
  "language_info": {
   "codemirror_mode": {
    "name": "ipython",
    "version": 3
   },
   "file_extension": ".py",
   "mimetype": "text/x-python",
   "name": "python",
   "nbconvert_exporter": "python",
   "pygments_lexer": "ipython3",
   "version": "3.12.4"
  }
 },
 "nbformat": 4,
 "nbformat_minor": 5
}
